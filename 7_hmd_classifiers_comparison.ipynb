{
  "nbformat": 4,
  "nbformat_minor": 0,
  "metadata": {
    "colab": {
      "provenance": [],
      "gpuType": "T4"
    },
    "kernelspec": {
      "name": "python3",
      "display_name": "Python 3"
    },
    "language_info": {
      "name": "python"
    },
    "accelerator": "GPU",
    "gpuClass": "standard"
  },
  "cells": [
    {
      "cell_type": "markdown",
      "source": [
        "# Classification results for three models\n",
        "# Image embedding - VGG16\n",
        "# Text embedding - 1. Word2Vec,  2. TFIDF-LSA,  3. BOW-LSA"
      ],
      "metadata": {
        "id": "7Ksu_SfoHkEk"
      }
    },
    {
      "cell_type": "code",
      "source": [
        "import pandas as pd\n",
        "import numpy as np\n",
        "from PIL import Image\n",
        "import matplotlib.pyplot as plt\n",
        "from sklearn.metrics import classification_report\n"
      ],
      "metadata": {
        "id": "U6yctbiEHkf1"
      },
      "execution_count": null,
      "outputs": []
    },
    {
      "cell_type": "code",
      "source": [
        "from google.colab import drive\n",
        "drive.mount('/content/drive')"
      ],
      "metadata": {
        "colab": {
          "base_uri": "https://localhost:8080/"
        },
        "id": "eS-_eHiaXO00",
        "outputId": "9c9df258-c8e2-4a8c-e939-e0b8189db0af"
      },
      "execution_count": null,
      "outputs": [
        {
          "output_type": "stream",
          "name": "stdout",
          "text": [
            "Mounted at /content/drive\n"
          ]
        }
      ]
    },
    {
      "cell_type": "markdown",
      "source": [
        "# 1. load image (VGG16, autoencoder output) and text vectors(Glove-twitter-200)\n",
        "\n",
        "\n",
        "#  training data"
      ],
      "metadata": {
        "id": "fTrsYWQeW4pk"
      }
    },
    {
      "cell_type": "code",
      "source": [
        "img_label=np.load('/content/drive/MyDrive/HMD_project/new/embedding_train_img_norm.npy')\n",
        "txt_input=np.load('/content/drive/MyDrive/HMD_project/new/twitter_embedding_train_text.npy')\n",
        "\n",
        "img=img_label[:,0:-1]\n",
        "label=img_label[:,-1]\n",
        "\n",
        "img_txt=np.concatenate((img,txt_input),axis=1)\n",
        "\n",
        "x=img_txt\n",
        "y=label\n",
        "\n",
        "print(img.shape)\n",
        "y.shape\n"
      ],
      "metadata": {
        "id": "9PdpnsQIWWS1"
      },
      "execution_count": null,
      "outputs": []
    },
    {
      "cell_type": "markdown",
      "source": [
        "# validation data"
      ],
      "metadata": {
        "id": "wdjYWpp4OTJF"
      }
    },
    {
      "cell_type": "code",
      "source": [
        "from sklearn.model_selection import train_test_split\n",
        "X_train, X_test, y_train, y_test = train_test_split(x,y, test_size=0.2, random_state=10)\n",
        "\n",
        "from sklearn.metrics import matthews_corrcoef\n"
      ],
      "metadata": {
        "id": "dzkXBb5zTHmr"
      },
      "execution_count": null,
      "outputs": []
    },
    {
      "cell_type": "markdown",
      "source": [
        "# Decision tree classifier"
      ],
      "metadata": {
        "id": "ZKzqE_SRzweS"
      }
    },
    {
      "cell_type": "code",
      "source": [
        "from sklearn.tree import DecisionTreeClassifier\n",
        "from sklearn.metrics import classification_report\n",
        "\n",
        "clf = DecisionTreeClassifier(random_state=0)\n",
        "clf.fit(X_train,y_train)\n",
        "y_pred=clf.predict(X_test)\n",
        "\n",
        "print(classification_report(y_test,y_pred))\n",
        "\n",
        "print(matthews_corrcoef(y_test,y_pred))\n",
        "\n"
      ],
      "metadata": {
        "colab": {
          "base_uri": "https://localhost:8080/"
        },
        "id": "nVjjkdKgSCOA",
        "outputId": "4873cf67-3a1c-465a-a4bb-f866e26d0e48"
      },
      "execution_count": null,
      "outputs": [
        {
          "output_type": "stream",
          "name": "stdout",
          "text": [
            "              precision    recall  f1-score   support\n",
            "\n",
            "         0.0       0.71      0.63      0.66      1111\n",
            "         1.0       0.65      0.73      0.69      1069\n",
            "\n",
            "    accuracy                           0.68      2180\n",
            "   macro avg       0.68      0.68      0.68      2180\n",
            "weighted avg       0.68      0.68      0.68      2180\n",
            "\n",
            "0.3578139793109269\n"
          ]
        }
      ]
    },
    {
      "cell_type": "markdown",
      "source": [],
      "metadata": {
        "id": "Tfml8YeQ0AH6"
      }
    },
    {
      "cell_type": "markdown",
      "source": [
        "# Logistic regression classifier"
      ],
      "metadata": {
        "id": "x0ieBuhyz3o6"
      }
    },
    {
      "cell_type": "code",
      "source": [
        "from sklearn.linear_model import LogisticRegression\n",
        "clf = LogisticRegression(max_iter=2500)\n",
        "clf.fit(X_train,y_train)\n",
        "y_pred=clf.predict(X_test)\n",
        "\n",
        "print(classification_report(y_test,y_pred))\n",
        "\n",
        "print(matthews_corrcoef(y_test,y_pred))"
      ],
      "metadata": {
        "colab": {
          "base_uri": "https://localhost:8080/"
        },
        "id": "T30TZJSuXAzF",
        "outputId": "98b26421-baba-4130-ed11-3ce98eff9bce"
      },
      "execution_count": null,
      "outputs": [
        {
          "output_type": "stream",
          "name": "stdout",
          "text": [
            "              precision    recall  f1-score   support\n",
            "\n",
            "         0.0       0.70      0.72      0.71      1111\n",
            "         1.0       0.70      0.67      0.69      1069\n",
            "\n",
            "    accuracy                           0.70      2180\n",
            "   macro avg       0.70      0.70      0.70      2180\n",
            "weighted avg       0.70      0.70      0.70      2180\n",
            "\n",
            "0.3968624509435295\n"
          ]
        }
      ]
    },
    {
      "cell_type": "markdown",
      "source": [
        "# Naive bayes classifier"
      ],
      "metadata": {
        "id": "GEAkp0uB0ch0"
      }
    },
    {
      "cell_type": "code",
      "source": [
        "from sklearn.naive_bayes import MultinomialNB\n",
        "clf = MultinomialNB()\n",
        "clf.fit(X_train,y_train)\n",
        "y_pred=clf.predict(X_test)\n",
        "\n",
        "print(classification_report(y_test,y_pred))\n",
        "\n",
        "print(matthews_corrcoef(y_test,y_pred))"
      ],
      "metadata": {
        "colab": {
          "base_uri": "https://localhost:8080/"
        },
        "id": "QerNx_QdU1mC",
        "outputId": "bface508-e151-45a7-f1ae-2893d0751dfa"
      },
      "execution_count": null,
      "outputs": [
        {
          "output_type": "stream",
          "name": "stdout",
          "text": [
            "              precision    recall  f1-score   support\n",
            "\n",
            "         0.0       0.61      0.64      0.63      1111\n",
            "         1.0       0.61      0.58      0.59      1069\n",
            "\n",
            "    accuracy                           0.61      2180\n",
            "   macro avg       0.61      0.61      0.61      2180\n",
            "weighted avg       0.61      0.61      0.61      2180\n",
            "\n",
            "0.22032188916463405\n"
          ]
        }
      ]
    },
    {
      "cell_type": "markdown",
      "source": [
        "# SVM classifier"
      ],
      "metadata": {
        "id": "Xqs_6TdB0pxI"
      }
    },
    {
      "cell_type": "code",
      "source": [
        "from sklearn.svm import SVC\n",
        "\n",
        "clf = SVC(gamma='auto')\n",
        "clf.fit(X_train,y_train)\n",
        "y_pred=clf.predict(X_test)\n",
        "\n",
        "print(classification_report(y_test,y_pred))\n",
        "\n",
        "print(matthews_corrcoef(y_test,y_pred))\n"
      ],
      "metadata": {
        "colab": {
          "base_uri": "https://localhost:8080/"
        },
        "id": "UHPO5vUd0wKz",
        "outputId": "33d1d54d-be26-45a8-f708-75e8c6f433f3"
      },
      "execution_count": null,
      "outputs": [
        {
          "output_type": "stream",
          "name": "stdout",
          "text": [
            "              precision    recall  f1-score   support\n",
            "\n",
            "         0.0       0.68      0.79      0.73      1111\n",
            "         1.0       0.74      0.61      0.67      1069\n",
            "\n",
            "    accuracy                           0.70      2180\n",
            "   macro avg       0.71      0.70      0.70      2180\n",
            "weighted avg       0.71      0.70      0.70      2180\n",
            "\n",
            "0.4054136015525303\n"
          ]
        }
      ]
    },
    {
      "cell_type": "markdown",
      "source": [
        "# 2. load image (VGG16, autoencoder output) and text vectors(TFIDF-LSA)"
      ],
      "metadata": {
        "id": "IBOI43XR0z9t"
      }
    },
    {
      "cell_type": "code",
      "source": [
        "img_label=np.load('/content/drive/MyDrive/HMD_project/new/embedding_train_img_norm.npy')\n",
        "txt_input=np.load('/content/drive/MyDrive/HMD_project/new/lsa_tfidf_train_text.npy')\n",
        "\n",
        "img=img_label[:,0:-1]\n",
        "label=img_label[:,-1]\n",
        "txt=txt_input-np.min(txt_input)\n",
        "\n",
        "img_txt=np.concatenate((img,txt),axis=1)\n",
        "\n",
        "x=img_txt\n",
        "y=label\n",
        "\n",
        "\n",
        "from sklearn.model_selection import train_test_split\n",
        "X_train, X_test, y_train, y_test = train_test_split(x,y, test_size=0.2, random_state=10)\n",
        "\n"
      ],
      "metadata": {
        "id": "L9ZqZc79c0Tb"
      },
      "execution_count": null,
      "outputs": []
    },
    {
      "cell_type": "markdown",
      "source": [
        "# Decision tree"
      ],
      "metadata": {
        "id": "QX-Jveq__qxa"
      }
    },
    {
      "cell_type": "code",
      "source": [
        "\n",
        "clf = DecisionTreeClassifier(random_state=0)\n",
        "clf.fit(X_train,y_train)\n",
        "y_pred=clf.predict(X_test)\n",
        "\n",
        "print(classification_report(y_test,y_pred))\n",
        "\n",
        "print(matthews_corrcoef(y_test,y_pred))\n"
      ],
      "metadata": {
        "colab": {
          "base_uri": "https://localhost:8080/"
        },
        "id": "XlPDuXeLde0q",
        "outputId": "270b2734-7d49-48aa-9c99-18daff59527e"
      },
      "execution_count": null,
      "outputs": [
        {
          "output_type": "stream",
          "name": "stdout",
          "text": [
            "              precision    recall  f1-score   support\n",
            "\n",
            "         0.0       0.70      0.66      0.68      1111\n",
            "         1.0       0.67      0.71      0.69      1069\n",
            "\n",
            "    accuracy                           0.68      2180\n",
            "   macro avg       0.68      0.68      0.68      2180\n",
            "weighted avg       0.68      0.68      0.68      2180\n",
            "\n",
            "0.3654909266170182\n"
          ]
        }
      ]
    },
    {
      "cell_type": "code",
      "source": [
        "\n",
        "clf = LogisticRegression(max_iter=2500)\n",
        "clf.fit(X_train,y_train)\n",
        "y_pred=clf.predict(X_test)\n",
        "\n",
        "print(classification_report(y_test,y_pred))\n",
        "\n",
        "print(matthews_corrcoef(y_test,y_pred))"
      ],
      "metadata": {
        "colab": {
          "base_uri": "https://localhost:8080/"
        },
        "id": "K876nBO1dlyE",
        "outputId": "6f6a99b7-6a77-440d-8769-147560a33656"
      },
      "execution_count": null,
      "outputs": [
        {
          "output_type": "stream",
          "name": "stdout",
          "text": [
            "              precision    recall  f1-score   support\n",
            "\n",
            "         0.0       0.72      0.77      0.75      1111\n",
            "         1.0       0.74      0.69      0.72      1069\n",
            "\n",
            "    accuracy                           0.73      2180\n",
            "   macro avg       0.73      0.73      0.73      2180\n",
            "weighted avg       0.73      0.73      0.73      2180\n",
            "\n",
            "0.46447595419142135\n"
          ]
        }
      ]
    },
    {
      "cell_type": "code",
      "source": [
        "\n",
        "clf = MultinomialNB()\n",
        "clf.fit(X_train,y_train)\n",
        "y_pred=clf.predict(X_test)\n",
        "\n",
        "print(classification_report(y_test,y_pred))\n",
        "\n",
        "print(matthews_corrcoef(y_test,y_pred))"
      ],
      "metadata": {
        "colab": {
          "base_uri": "https://localhost:8080/"
        },
        "id": "nMZxXkOXdrnj",
        "outputId": "f8f7c792-f5ff-4c27-f67f-a9d9ebd76152"
      },
      "execution_count": null,
      "outputs": [
        {
          "output_type": "stream",
          "name": "stdout",
          "text": [
            "              precision    recall  f1-score   support\n",
            "\n",
            "         0.0       0.61      0.64      0.62      1111\n",
            "         1.0       0.60      0.58      0.59      1069\n",
            "\n",
            "    accuracy                           0.61      2180\n",
            "   macro avg       0.61      0.61      0.61      2180\n",
            "weighted avg       0.61      0.61      0.61      2180\n",
            "\n",
            "0.21391787410816115\n"
          ]
        }
      ]
    },
    {
      "cell_type": "markdown",
      "source": [
        "# 3. load image (VGG16, autoencoder output) and text vectors(BOW-LSA)"
      ],
      "metadata": {
        "id": "LyPqTkF61YFo"
      }
    },
    {
      "cell_type": "code",
      "source": [
        "img_label=np.load('/content/drive/MyDrive/HMD_project/new/embedding_train_img_norm.npy')\n",
        "txt_input=np.load('/content/drive/MyDrive/HMD_project/new/lsa_bow_train_text.npy')\n",
        "\n",
        "img=img_label[:,0:-1]\n",
        "label=img_label[:,-1]\n",
        "txt=txt_input-np.min(txt_input)\n",
        "\n",
        "img_txt=np.concatenate((img,txt),axis=1)\n",
        "\n",
        "x=img_txt\n",
        "y=label\n",
        "\n",
        "\n",
        "from sklearn.model_selection import train_test_split\n",
        "X_train, X_test, y_train, y_test = train_test_split(x,y, test_size=0.2, random_state=10)\n",
        "\n"
      ],
      "metadata": {
        "id": "NnfZv3t5eeR0"
      },
      "execution_count": null,
      "outputs": []
    },
    {
      "cell_type": "markdown",
      "source": [
        "# Decision tree"
      ],
      "metadata": {
        "id": "K5M-MFbIASlq"
      }
    },
    {
      "cell_type": "code",
      "source": [
        "\n",
        "clf = DecisionTreeClassifier(random_state=20)\n",
        "clf.fit(X_train,y_train)\n",
        "y_pred=clf.predict(X_test)\n",
        "\n",
        "print(classification_report(y_test,y_pred))\n",
        "\n",
        "print(matthews_corrcoef(y_test,y_pred))"
      ],
      "metadata": {
        "colab": {
          "base_uri": "https://localhost:8080/"
        },
        "id": "etPdL6IqevuT",
        "outputId": "932ffb19-c2ad-4d24-fb98-d67acfa83c13"
      },
      "execution_count": null,
      "outputs": [
        {
          "output_type": "stream",
          "name": "stdout",
          "text": [
            "              precision    recall  f1-score   support\n",
            "\n",
            "         0.0       0.70      0.63      0.66      1111\n",
            "         1.0       0.65      0.72      0.68      1069\n",
            "\n",
            "    accuracy                           0.67      2180\n",
            "   macro avg       0.68      0.68      0.67      2180\n",
            "weighted avg       0.68      0.67      0.67      2180\n",
            "\n",
            "0.35152451817361346\n"
          ]
        }
      ]
    },
    {
      "cell_type": "markdown",
      "source": [
        "# Logistic regression"
      ],
      "metadata": {
        "id": "FAl99lirAYNF"
      }
    },
    {
      "cell_type": "code",
      "source": [
        "clf = LogisticRegression(max_iter=2000)\n",
        "clf.fit(X_train,y_train)\n",
        "y_pred=clf.predict(X_test)\n",
        "\n",
        "print(classification_report(y_test,y_pred))\n",
        "\n",
        "print(matthews_corrcoef(y_test,y_pred))"
      ],
      "metadata": {
        "colab": {
          "base_uri": "https://localhost:8080/"
        },
        "id": "sGG2UEA-e3YL",
        "outputId": "00f1b65f-4bb6-498d-fb43-8882a947452e"
      },
      "execution_count": null,
      "outputs": [
        {
          "output_type": "stream",
          "name": "stdout",
          "text": [
            "              precision    recall  f1-score   support\n",
            "\n",
            "         0.0       0.73      0.77      0.75      1111\n",
            "         1.0       0.75      0.70      0.72      1069\n",
            "\n",
            "    accuracy                           0.74      2180\n",
            "   macro avg       0.74      0.74      0.74      2180\n",
            "weighted avg       0.74      0.74      0.74      2180\n",
            "\n",
            "0.4717629204945636\n"
          ]
        }
      ]
    },
    {
      "cell_type": "code",
      "source": [
        "\n",
        "clf = MultinomialNB()\n",
        "clf.fit(X_train,y_train)\n",
        "y_pred=clf.predict(X_test)\n",
        "\n",
        "print(classification_report(y_test,y_pred))\n",
        "\n",
        "print(matthews_corrcoef(y_test,y_pred))"
      ],
      "metadata": {
        "colab": {
          "base_uri": "https://localhost:8080/"
        },
        "id": "3Y_N_VF3S7c-",
        "outputId": "60af1785-07c3-4918-be97-46c64e8af263"
      },
      "execution_count": null,
      "outputs": [
        {
          "output_type": "stream",
          "name": "stdout",
          "text": [
            "              precision    recall  f1-score   support\n",
            "\n",
            "         0.0       0.61      0.64      0.63      1111\n",
            "         1.0       0.61      0.58      0.59      1069\n",
            "\n",
            "    accuracy                           0.61      2180\n",
            "   macro avg       0.61      0.61      0.61      2180\n",
            "weighted avg       0.61      0.61      0.61      2180\n",
            "\n",
            "0.2166632248789762\n"
          ]
        }
      ]
    }
  ]
}