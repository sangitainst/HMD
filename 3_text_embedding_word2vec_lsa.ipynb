{
  "nbformat": 4,
  "nbformat_minor": 0,
  "metadata": {
    "colab": {
      "provenance": [],
      "gpuType": "T4"
    },
    "kernelspec": {
      "name": "python3",
      "display_name": "Python 3"
    },
    "language_info": {
      "name": "python"
    },
    "accelerator": "GPU",
    "gpuClass": "standard"
  },
  "cells": [
    {
      "cell_type": "code",
      "source": [
        "import numpy as np\n",
        "import pandas as pd\n",
        "import matplotlib.pyplot as plt\n",
        "print(\"success\")"
      ],
      "metadata": {
        "id": "PTTBJ-ZwFpMR",
        "colab": {
          "base_uri": "https://localhost:8080/"
        },
        "outputId": "e26a83f6-78bc-40ef-ad4b-56b2f4e4af1d"
      },
      "execution_count": null,
      "outputs": [
        {
          "output_type": "stream",
          "name": "stdout",
          "text": [
            "success\n"
          ]
        }
      ]
    },
    {
      "cell_type": "markdown",
      "source": [
        "# Mount google drive"
      ],
      "metadata": {
        "id": "bP9RWwjWDsjp"
      }
    },
    {
      "cell_type": "code",
      "source": [
        "from google.colab import drive\n",
        "drive.mount('/content/drive')"
      ],
      "metadata": {
        "id": "iXnrdOiOEssq",
        "colab": {
          "base_uri": "https://localhost:8080/"
        },
        "outputId": "48de073d-f54d-4dc3-b0a3-4f207ccc072c"
      },
      "execution_count": null,
      "outputs": [
        {
          "output_type": "stream",
          "name": "stdout",
          "text": [
            "Mounted at /content/drive\n"
          ]
        }
      ]
    },
    {
      "cell_type": "markdown",
      "source": [
        "# Load train and validation data from Facebook HMD dataset"
      ],
      "metadata": {
        "id": "ZHsohRMnD2GY"
      }
    },
    {
      "cell_type": "code",
      "source": [
        "folder_path_train =\"/content/drive/MyDrive/HMD_project/train.jsonl\"\n",
        "folder_path_dev =\"/content/drive/MyDrive/HMD_project/dev.jsonl\"\n",
        "df_train = pd.read_json(folder_path_train,lines=True)\n",
        "df_dev=pd.read_json(folder_path_dev,lines=True)\n",
        "\n",
        "print(df_dev.tail())"
      ],
      "metadata": {
        "id": "HM_Rf6shG9KS",
        "colab": {
          "base_uri": "https://localhost:8080/"
        },
        "outputId": "aebca3c0-892c-4b91-be43-e6574187bc0b"
      },
      "execution_count": null,
      "outputs": [
        {
          "output_type": "stream",
          "name": "stdout",
          "text": [
            "        id            img  label  \\\n",
            "495  83675  img/83675.png      0   \n",
            "496  37198  img/37198.png      0   \n",
            "497  48670  img/48670.png      0   \n",
            "498   9863  img/09863.png      0   \n",
            "499  97320  img/97320.png      0   \n",
            "\n",
            "                                                  text  \n",
            "495                   i'm gonna be like phelps one day  \n",
            "496  when you're so relaxed you can feel yourself g...  \n",
            "497  look at this sandwich maker club i found on wi...  \n",
            "498                             diverse group of women  \n",
            "499  \"when your dishwasher is broken so you take it...  \n"
          ]
        }
      ]
    },
    {
      "cell_type": "markdown",
      "source": [
        "# check distribution of data in train and validation dataset"
      ],
      "metadata": {
        "id": "NMVm7Qe9ED9i"
      }
    },
    {
      "cell_type": "code",
      "source": [
        "# distribution of movies based on certificate\n",
        "df_train['label'].value_counts().plot(kind='bar', figsize=(6, 6),width=0.2,title='Training data')\n",
        "\n",
        "print('Distribution of training dataset\\n',df_train.label.value_counts(),\"\\n\")\n",
        "print(\"Distribution of validation dataset\\n\",df_dev.label.value_counts())"
      ],
      "metadata": {
        "colab": {
          "base_uri": "https://localhost:8080/",
          "height": 695
        },
        "id": "Z3lFZTCkg01F",
        "outputId": "461ad93f-7cf0-412b-d1b6-a3d8e2693512"
      },
      "execution_count": null,
      "outputs": [
        {
          "output_type": "stream",
          "name": "stdout",
          "text": [
            "Distribution of training dataset\n",
            " 0    5450\n",
            "1    3050\n",
            "Name: label, dtype: int64 \n",
            "\n",
            "Distribution of validation dataset\n",
            " 1    250\n",
            "0    250\n",
            "Name: label, dtype: int64\n"
          ]
        },
        {
          "output_type": "display_data",
          "data": {
            "text/plain": [
              "<Figure size 600x600 with 1 Axes>"
            ],
            "image/png": "[encoded data removed]"
          },
          "metadata": {}
        }
      ]
    },
    {
      "cell_type": "markdown",
      "source": [
        "# Check null values"
      ],
      "metadata": {
        "id": "nYaf92Y3ETRs"
      }
    },
    {
      "cell_type": "code",
      "source": [
        "print(df_train.isna().sum())\n",
        "\n",
        "print(\"\\n\\n\",df_dev.isna().sum())"
      ],
      "metadata": {
        "colab": {
          "base_uri": "https://localhost:8080/"
        },
        "id": "glWmO3MdEYQN",
        "outputId": "d178ac54-e91d-48f6-d65b-e7fea4420ab3"
      },
      "execution_count": null,
      "outputs": [
        {
          "output_type": "stream",
          "name": "stdout",
          "text": [
            "id       0\n",
            "img      0\n",
            "label    0\n",
            "text     0\n",
            "dtype: int64\n",
            "\n",
            "\n",
            " id       0\n",
            "img      0\n",
            "label    0\n",
            "text     0\n",
            "dtype: int64\n"
          ]
        }
      ]
    },
    {
      "cell_type": "markdown",
      "source": [
        "# form the text file load the text corresponding to the augmented images"
      ],
      "metadata": {
        "id": "Y4djqWooBvTL"
      }
    },
    {
      "cell_type": "code",
      "source": [
        "with open('/content/drive/MyDrive/HMD_project/new/text_aug_norm.txt','r') as f:\n",
        "  lines=f.readlines()\n",
        "  file_names=[]\n",
        "  for i in lines:\n",
        "    file_names.append(i[:i.find('\\n')])\n",
        "  print(type(file_names[0]))"
      ],
      "metadata": {
        "colab": {
          "base_uri": "https://localhost:8080/"
        },
        "id": "8NdMnuKMiXCi",
        "outputId": "71ddf772-33a4-4f3f-abbf-699a7b9c7cbb"
      },
      "execution_count": null,
      "outputs": [
        {
          "output_type": "stream",
          "name": "stdout",
          "text": [
            "<class 'str'>\n"
          ]
        }
      ]
    },
    {
      "cell_type": "markdown",
      "source": [
        "# add augmented text in the training dataframe"
      ],
      "metadata": {
        "id": "sDHgEXtSB93t"
      }
    },
    {
      "cell_type": "code",
      "source": [
        "for i in range(len(file_names)):\n",
        "  df_train.loc[len(df_train.index)] = [1, 'img/1',1,file_names[i]]\n"
      ],
      "metadata": {
        "id": "B9VTsS7Ckq2K"
      },
      "execution_count": null,
      "outputs": []
    },
    {
      "cell_type": "markdown",
      "source": [
        "# load pretrained word embedding model from gensim library"
      ],
      "metadata": {
        "id": "-CKIZWamFN9x"
      }
    },
    {
      "cell_type": "code",
      "source": [
        "import gensim.downloader\n",
        "print(list(gensim.downloader.info()['models'].keys()))"
      ],
      "metadata": {
        "colab": {
          "base_uri": "https://localhost:8080/"
        },
        "id": "3F95idrXHIAv",
        "outputId": "24e59cd8-c438-4785-afa0-1b40e9db20c4"
      },
      "execution_count": null,
      "outputs": [
        {
          "output_type": "stream",
          "name": "stdout",
          "text": [
            "['fasttext-wiki-news-subwords-300', 'conceptnet-numberbatch-17-06-300', 'word2vec-ruscorpora-300', 'word2vec-google-news-300', 'glove-wiki-gigaword-50', 'glove-wiki-gigaword-100', 'glove-wiki-gigaword-200', 'glove-wiki-gigaword-300', 'glove-twitter-25', 'glove-twitter-50', 'glove-twitter-100', 'glove-twitter-200', '__testing_word2vec-matrix-synopsis']\n"
          ]
        }
      ]
    },
    {
      "cell_type": "code",
      "execution_count": null,
      "metadata": {
        "id": "awQGOVG4D7yk"
      },
      "outputs": [],
      "source": [
        "# import gensim.downloader as api\n",
        "# wv=api.load('glove-twitter-200')\n"
      ]
    },
    {
      "cell_type": "code",
      "source": [
        "# wv.save('/content/drive/MyDrive/HMD_project/glove-twitter-200')"
      ],
      "metadata": {
        "id": "BAXjosQ6qBdh"
      },
      "execution_count": null,
      "outputs": []
    },
    {
      "cell_type": "code",
      "source": [
        "from gensim.models import KeyedVectors\n",
        "wv=KeyedVectors.load('/content/drive/MyDrive/HMD_project/glove-twitter-200')\n",
        "\n"
      ],
      "metadata": {
        "id": "MsnqxVtAqJNg"
      },
      "execution_count": null,
      "outputs": []
    },
    {
      "cell_type": "markdown",
      "source": [
        "# word to vector conversion using gensim 'glove-twitter-200' model"
      ],
      "metadata": {
        "id": "mRpQpmhhJkh9"
      }
    },
    {
      "cell_type": "code",
      "source": [
        "w=wv[\"hate\"]\n",
        "print(w)\n",
        "print(\"\\n\\nlength of word vector\",len(w))\n",
        "\n",
        "print(\"\\n\\n type of word vector model \",type(wv))\n",
        "print(\"\\n\\n word vector type\",type(w))"
      ],
      "metadata": {
        "colab": {
          "base_uri": "https://localhost:8080/"
        },
        "id": "Yl5ZS2FC2-6v",
        "outputId": "62bae057-4a99-4977-ee70-8008c80aeb42"
      },
      "execution_count": null,
      "outputs": [
        {
          "output_type": "stream",
          "name": "stdout",
          "text": [
            "[ 8.7812e-02  1.5509e-01  1.9043e-02  3.2794e-01 -6.2865e-01  3.8354e-01\n",
            "  1.0874e+00 -2.2673e-01 -2.0495e-02  1.9731e-01 -9.7951e-03 -4.5427e-01\n",
            " -1.0219e+00 -1.3749e-01 -4.4656e-01 -4.9074e-01 -2.7059e-01 -1.4863e-01\n",
            " -4.6549e-01  7.8394e-02  6.3029e-01 -1.6537e-01  3.9175e-01 -4.5700e-02\n",
            "  4.6430e-02  1.0258e+00 -2.0306e-01  2.7607e-01 -4.0719e-01 -2.6598e-01\n",
            " -2.8612e-01 -5.6371e-01 -4.2307e-01  5.3469e-01 -6.2339e-01 -2.1108e-01\n",
            " -2.1612e-01  1.7285e-01  8.1810e-01  2.3707e-01  5.0373e-01  3.8908e-01\n",
            "  4.8352e-03 -4.0132e-01 -2.5998e-01  4.2505e-01  2.0397e-02  2.3174e-01\n",
            "  8.0093e-02 -4.7759e-01  3.9593e-01  4.1413e-01 -2.2591e-02 -3.1482e-01\n",
            "  2.6453e-01 -1.3888e-01 -1.0361e+00 -3.8331e-01 -1.9307e-01 -9.3058e-02\n",
            "  1.2725e-01 -2.6898e-01 -2.5831e-02 -1.6715e-01  1.1055e-01 -4.6246e-04\n",
            " -4.7856e-02  2.9984e-01 -4.7439e-01  4.9714e-02 -4.7032e-01  1.7674e-01\n",
            " -4.5200e-01 -1.5224e-01 -3.2700e-01 -1.7972e-02  1.5228e-01  9.4610e-02\n",
            "  3.1846e-01  9.5296e-02 -2.1787e-01  3.0930e-02 -3.1770e-01  6.6291e-01\n",
            " -2.7645e-01  5.6897e-01  3.4774e-01 -3.5502e-01 -5.6243e-02 -3.0166e-01\n",
            " -5.0147e-01  1.2908e-01  9.5706e-02  5.8775e-01 -3.1395e-01  4.0320e-01\n",
            " -1.0155e+00 -2.3868e-01  6.2811e-01  3.2631e-01 -6.9294e-01  2.3043e-01\n",
            " -4.1630e-01 -3.1449e-01  3.8978e-02  2.0003e-01  9.2133e-02  1.5092e-01\n",
            " -4.4038e-01 -2.4026e-01 -2.7888e-01  3.2294e-01 -4.2689e-01 -8.7970e-01\n",
            " -3.1222e-01  6.4732e-01  6.6800e-02  2.5014e-01 -6.6505e-02 -2.3124e-01\n",
            " -2.3269e-01 -1.4398e-01  5.2291e-01 -3.1314e-02 -4.0872e-01  6.9156e-01\n",
            "  2.6832e-02 -2.6755e-01 -2.1835e-02 -7.7016e-02  6.9541e-02 -2.2943e-02\n",
            "  1.7369e-01 -1.6246e-01 -9.7506e-02 -2.8714e-01  1.0669e-01 -1.4333e-01\n",
            "  3.6134e-01 -8.9997e-01 -3.5540e-01  2.7309e-01 -6.8107e-02 -1.4787e-02\n",
            " -2.6194e-01  5.2067e-01  3.1077e-01 -4.1009e-01 -1.6162e-01 -3.4854e-01\n",
            " -5.1744e-02 -8.5653e-02 -5.1749e+00  4.8340e-01 -1.2508e-02  2.2325e-02\n",
            " -4.9353e-01  1.7720e-01  2.4387e-01  1.3966e-01  3.0027e-01  4.9003e-03\n",
            " -3.4277e-01  1.1453e-01  1.6024e-01 -2.7595e-01 -1.4804e-01  5.3763e-01\n",
            "  9.7643e-02  7.0802e-01 -9.7579e-01  1.0534e-01 -7.0170e-03  5.8956e-02\n",
            "  3.4728e-02 -6.1181e-01 -7.3172e-02 -7.7872e-02 -1.7826e-01  1.2484e-01\n",
            "  1.6179e-01 -8.2058e-02 -4.7944e-01 -3.1898e-01  2.5529e-01  2.9076e-01\n",
            " -1.4762e-01  4.2967e-01  1.7432e-01  4.8667e-02 -5.9017e-01  3.8582e-02\n",
            " -2.1546e-01 -4.5244e-01 -5.5451e-01  2.3966e-01 -1.9148e-01  1.0819e-01\n",
            " -3.7757e-01  1.6784e-01]\n",
            "\n",
            "\n",
            "length of word vector 200\n",
            "\n",
            "\n",
            " type of word vector model  <class 'gensim.models.keyedvectors.KeyedVectors'>\n",
            "\n",
            "\n",
            " word vector type <class 'numpy.ndarray'>\n"
          ]
        }
      ]
    },
    {
      "cell_type": "markdown",
      "source": [
        "# Import spacy library for text preprocessing"
      ],
      "metadata": {
        "id": "fDRWshXeYggn"
      }
    },
    {
      "cell_type": "code",
      "source": [
        "import spacy"
      ],
      "metadata": {
        "id": "UldUr0BhUhXP"
      },
      "execution_count": null,
      "outputs": []
    },
    {
      "cell_type": "markdown",
      "source": [
        "# use sapcy 'en_core_web_sm\" model fpr preporocessing"
      ],
      "metadata": {
        "id": "Yj9dInFHNn5X"
      }
    },
    {
      "cell_type": "code",
      "source": [
        "import spacy.cli\n",
        "# spacy.cli.download(\"en_core_web_sm\")\n",
        "nlp = spacy.load(\"en_core_web_sm\")"
      ],
      "metadata": {
        "id": "f8x8ehH0Kmcx"
      },
      "execution_count": null,
      "outputs": []
    },
    {
      "cell_type": "markdown",
      "source": [
        "# tokenize each word in a sentence and apply lemmatization on it, remove punctuation, space, brackets if any"
      ],
      "metadata": {
        "id": "b3k-H-VpN4lu"
      }
    },
    {
      "cell_type": "code",
      "source": [
        "\n",
        "def preprocess(text):\n",
        "  doc=nlp(text)\n",
        "  filtered_token=[]\n",
        "\n",
        "  for token in doc:\n",
        "\n",
        "    if token.is_punct or token.is_space or token.is_bracket or token.is_stop:\n",
        "      continue\n",
        "    else:\n",
        "      token=token.lemma_\n",
        "\n",
        "      filtered_token.append(token)\n",
        "  return filtered_token\n",
        "\n",
        "\n"
      ],
      "metadata": {
        "id": "Vi07mYFuWQJ2"
      },
      "execution_count": null,
      "outputs": []
    },
    {
      "cell_type": "markdown",
      "source": [
        "# example showing text preprocessing"
      ],
      "metadata": {
        "id": "Qb0cTzkPOhkC"
      }
    },
    {
      "cell_type": "code",
      "source": [
        "tokens=preprocess(\"My best friend Anu, (who is three months older than me) is coming to my house tonight!!!.\")\n",
        "tokens"
      ],
      "metadata": {
        "colab": {
          "base_uri": "https://localhost:8080/"
        },
        "id": "xPi7NlZUrbJr",
        "outputId": "82244f3b-d4d2-4493-b730-6185e8bf009c"
      },
      "execution_count": null,
      "outputs": [
        {
          "output_type": "execute_result",
          "data": {
            "text/plain": [
              "['good', 'friend', 'Anu', 'month', 'old', 'come', 'house', 'tonight']"
            ]
          },
          "metadata": {},
          "execution_count": 17
        }
      ]
    },
    {
      "cell_type": "markdown",
      "source": [
        "# Apply preprocessing on the text column of training dataset and validation dataset"
      ],
      "metadata": {
        "id": "VYx4iZyGQYkk"
      }
    },
    {
      "cell_type": "code",
      "source": [
        "\n",
        "df_dev['processed_text_val']=df_dev['text'].apply(lambda x: preprocess(x))\n",
        "\n",
        "data['processed_text']=data['text'].apply(lambda x: preprocess(x))\n",
        "\n",
        "data.head()\n"
      ],
      "metadata": {
        "colab": {
          "base_uri": "https://localhost:8080/",
          "height": 206
        },
        "id": "OZe9BdtuOrcX",
        "outputId": "8b23f4d6-3c32-4d39-b5d3-2c6d519a4fa0"
      },
      "execution_count": null,
      "outputs": [
        {
          "output_type": "execute_result",
          "data": {
            "text/plain": [
              "      id            img  label  \\\n",
              "0  42953  img/42953.png      0   \n",
              "1  23058  img/23058.png      0   \n",
              "2  13894  img/13894.png      0   \n",
              "3  37408  img/37408.png      0   \n",
              "4  82403  img/82403.png      0   \n",
              "\n",
              "                                                text  \\\n",
              "0   its their character not their color that matters   \n",
              "1  don't be afraid to love again everyone is not ...   \n",
              "2                           putting bows on your pet   \n",
              "3  i love everything and everybody! except for sq...   \n",
              "4  everybody loves chocolate chip cookies, even h...   \n",
              "\n",
              "                                      processed_text  \n",
              "0                         [character, color, matter]  \n",
              "1                           [afraid, love, like, ex]  \n",
              "2                                    [put, bow, pet]  \n",
              "3        [love, everybody, squirrel, hate, squirrel]  \n",
              "4  [everybody, love, chocolate, chip, cookie, hit...  "
            ],
            "text/html": [
              "\n",
              "  <div id=\"df-62982adf-1c95-4283-a349-8f317681d988\">\n",
              "    <div class=\"colab-df-container\">\n",
              "      <div>\n",
              "<style scoped>\n",
              "    .dataframe tbody tr th:only-of-type {\n",
              "        vertical-align: middle;\n",
              "    }\n",
              "\n",
              "    .dataframe tbody tr th {\n",
              "        vertical-align: top;\n",
              "    }\n",
              "\n",
              "    .dataframe thead th {\n",
              "        text-align: right;\n",
              "    }\n",
              "</style>\n",
              "<table border=\"1\" class=\"dataframe\">\n",
              "  <thead>\n",
              "    <tr style=\"text-align: right;\">\n",
              "      <th></th>\n",
              "      <th>id</th>\n",
              "      <th>img</th>\n",
              "      <th>label</th>\n",
              "      <th>text</th>\n",
              "      <th>processed_text</th>\n",
              "    </tr>\n",
              "  </thead>\n",
              "  <tbody>\n",
              "    <tr>\n",
              "      <th>0</th>\n",
              "      <td>42953</td>\n",
              "      <td>img/42953.png</td>\n",
              "      <td>0</td>\n",
              "      <td>its their character not their color that matters</td>\n",
              "      <td>[character, color, matter]</td>\n",
              "    </tr>\n",
              "    <tr>\n",
              "      <th>1</th>\n",
              "      <td>23058</td>\n",
              "      <td>img/23058.png</td>\n",
              "      <td>0</td>\n",
              "      <td>don't be afraid to love again everyone is not ...</td>\n",
              "      <td>[afraid, love, like, ex]</td>\n",
              "    </tr>\n",
              "    <tr>\n",
              "      <th>2</th>\n",
              "      <td>13894</td>\n",
              "      <td>img/13894.png</td>\n",
              "      <td>0</td>\n",
              "      <td>putting bows on your pet</td>\n",
              "      <td>[put, bow, pet]</td>\n",
              "    </tr>\n",
              "    <tr>\n",
              "      <th>3</th>\n",
              "      <td>37408</td>\n",
              "      <td>img/37408.png</td>\n",
              "      <td>0</td>\n",
              "      <td>i love everything and everybody! except for sq...</td>\n",
              "      <td>[love, everybody, squirrel, hate, squirrel]</td>\n",
              "    </tr>\n",
              "    <tr>\n",
              "      <th>4</th>\n",
              "      <td>82403</td>\n",
              "      <td>img/82403.png</td>\n",
              "      <td>0</td>\n",
              "      <td>everybody loves chocolate chip cookies, even h...</td>\n",
              "      <td>[everybody, love, chocolate, chip, cookie, hit...</td>\n",
              "    </tr>\n",
              "  </tbody>\n",
              "</table>\n",
              "</div>\n",
              "      <button class=\"colab-df-convert\" onclick=\"convertToInteractive('df-62982adf-1c95-4283-a349-8f317681d988')\"\n",
              "              title=\"Convert this dataframe to an interactive table.\"\n",
              "              style=\"display:none;\">\n",
              "        \n",
              "  <svg xmlns=\"http://www.w3.org/2000/svg\" height=\"24px\"viewBox=\"0 0 24 24\"\n",
              "       width=\"24px\">\n",
              "    <path d=\"M0 0h24v24H0V0z\" fill=\"none\"/>\n",
              "    <path d=\"M18.56 5.44l.94 2.06.94-2.06 2.06-.94-2.06-.94-.94-2.06-.94 2.06-2.06.94zm-11 1L8.5 8.5l.94-2.06 2.06-.94-2.06-.94L8.5 2.5l-.94 2.06-2.06.94zm10 10l.94 2.06.94-2.06 2.06-.94-2.06-.94-.94-2.06-.94 2.06-2.06.94z\"/><path d=\"M17.41 7.96l-1.37-1.37c-.4-.4-.92-.59-1.43-.59-.52 0-1.04.2-1.43.59L10.3 9.45l-7.72 7.72c-.78.78-.78 2.05 0 2.83L4 21.41c.39.39.9.59 1.41.59.51 0 1.02-.2 1.41-.59l7.78-7.78 2.81-2.81c.8-.78.8-2.07 0-2.86zM5.41 20L4 18.59l7.72-7.72 1.47 1.35L5.41 20z\"/>\n",
              "  </svg>\n",
              "      </button>\n",
              "      \n",
              "  <style>\n",
              "    .colab-df-container {\n",
              "      display:flex;\n",
              "      flex-wrap:wrap;\n",
              "      gap: 12px;\n",
              "    }\n",
              "\n",
              "    .colab-df-convert {\n",
              "      background-color: #E8F0FE;\n",
              "      border: none;\n",
              "      border-radius: 50%;\n",
              "      cursor: pointer;\n",
              "      display: none;\n",
              "      fill: #1967D2;\n",
              "      height: 32px;\n",
              "      padding: 0 0 0 0;\n",
              "      width: 32px;\n",
              "    }\n",
              "\n",
              "    .colab-df-convert:hover {\n",
              "      background-color: #E2EBFA;\n",
              "      box-shadow: 0px 1px 2px rgba(60, 64, 67, 0.3), 0px 1px 3px 1px rgba(60, 64, 67, 0.15);\n",
              "      fill: #174EA6;\n",
              "    }\n",
              "\n",
              "    [theme=dark] .colab-df-convert {\n",
              "      background-color: #3B4455;\n",
              "      fill: #D2E3FC;\n",
              "    }\n",
              "\n",
              "    [theme=dark] .colab-df-convert:hover {\n",
              "      background-color: #434B5C;\n",
              "      box-shadow: 0px 1px 3px 1px rgba(0, 0, 0, 0.15);\n",
              "      filter: drop-shadow(0px 1px 2px rgba(0, 0, 0, 0.3));\n",
              "      fill: #FFFFFF;\n",
              "    }\n",
              "  </style>\n",
              "\n",
              "      <script>\n",
              "        const buttonEl =\n",
              "          document.querySelector('#df-62982adf-1c95-4283-a349-8f317681d988 button.colab-df-convert');\n",
              "        buttonEl.style.display =\n",
              "          google.colab.kernel.accessAllowed ? 'block' : 'none';\n",
              "\n",
              "        async function convertToInteractive(key) {\n",
              "          const element = document.querySelector('#df-62982adf-1c95-4283-a349-8f317681d988');\n",
              "          const dataTable =\n",
              "            await google.colab.kernel.invokeFunction('convertToInteractive',\n",
              "                                                     [key], {});\n",
              "          if (!dataTable) return;\n",
              "\n",
              "          const docLinkHtml = 'Like what you see? Visit the ' +\n",
              "            '<a target=\"_blank\" href=https://colab.research.google.com/notebooks/data_table.ipynb>data table notebook</a>'\n",
              "            + ' to learn more about interactive tables.';\n",
              "          element.innerHTML = '';\n",
              "          dataTable['output_type'] = 'display_data';\n",
              "          await google.colab.output.renderOutput(dataTable, element);\n",
              "          const docLink = document.createElement('div');\n",
              "          docLink.innerHTML = docLinkHtml;\n",
              "          element.appendChild(docLink);\n",
              "        }\n",
              "      </script>\n",
              "    </div>\n",
              "  </div>\n",
              "  "
            ]
          },
          "metadata": {},
          "execution_count": 14
        }
      ]
    },
    {
      "cell_type": "markdown",
      "source": [
        "# use gensim pretrained model to vectorize each token in the preprocessed text and take the average of vectors to keep the dimension same"
      ],
      "metadata": {
        "id": "oO8cMZp9REGn"
      }
    },
    {
      "cell_type": "code",
      "source": [
        "import numpy as np\n",
        "\n",
        "def gensim_vector(token):\n",
        "  vec_size=wv.vector_size\n",
        "  wv_final=np.zeros(vec_size) # take a vector consisting '0s' having size of wv\n",
        "\n",
        "  count=1\n",
        "  for t in token:\n",
        "    if t in wv:\n",
        "      count += 1\n",
        "      wv_final += wv[t] # vectorize word and add to previous value\n",
        "\n",
        "  return wv_final/count # take the average\n"
      ],
      "metadata": {
        "id": "y8gI48rB-5Bw"
      },
      "execution_count": null,
      "outputs": []
    },
    {
      "cell_type": "markdown",
      "source": [
        "# Apply the vectorization process on processed text column of the validation and training dataset"
      ],
      "metadata": {
        "id": "_wLZFw-hTeQm"
      }
    },
    {
      "cell_type": "code",
      "source": [
        "\n",
        "data[\"text_vector\"]=data[\"processed_text\"].apply(gensim_vector)\n",
        "df_dev[\"text_vector_val\"]=df_dev[\"processed_text_val\"].apply(gensim_vector)\n",
        "print(data.head(),'\\n\\n')\n",
        "print(df_dev.head())"
      ],
      "metadata": {
        "id": "PcSPDhusnZk3"
      },
      "execution_count": null,
      "outputs": []
    },
    {
      "cell_type": "code",
      "source": [
        "len(data.text_vector.iloc[0])"
      ],
      "metadata": {
        "colab": {
          "base_uri": "https://localhost:8080/"
        },
        "id": "TNNB5KhaDE82",
        "outputId": "4d89b416-07fb-4b6e-9de0-f19247594dbe"
      },
      "execution_count": null,
      "outputs": [
        {
          "output_type": "execute_result",
          "data": {
            "text/plain": [
              "200"
            ]
          },
          "metadata": {},
          "execution_count": 21
        }
      ]
    },
    {
      "cell_type": "markdown",
      "source": [
        "# Save text vector in a numpy file\n",
        "\n",
        "\n",
        "\n"
      ],
      "metadata": {
        "id": "MioBOETDuTHz"
      }
    },
    {
      "cell_type": "code",
      "source": [
        "text_vector=data['text_vector']\n",
        "text_vector=np.stack(text_vector)\n",
        "print(text_vector.shape)\n",
        "print(text_vector[0].shape)\n",
        "np.save('/content/drive/MyDrive/HMD_project/new/twitter_embedding_train_text.npy',text_vector)\n",
        "\n",
        "\n",
        "\n",
        "text_vector_val=df_dev['text_vector_val']\n",
        "text_vector_val=np.stack(text_vector_val)\n",
        "print(text_vector_val.shape)\n",
        "print(text_vector_val[0].shape)\n",
        "np.save('/content/drive/MyDrive/HMD_project/new/twitter_embedding_val_text.npy',text_vector_val)\n",
        "\n",
        "\n",
        "\n"
      ],
      "metadata": {
        "colab": {
          "base_uri": "https://localhost:8080/"
        },
        "id": "IDxEX5T7uRSV",
        "outputId": "156e8858-f23f-4cdb-a450-9f6524217e29"
      },
      "execution_count": null,
      "outputs": [
        {
          "output_type": "stream",
          "name": "stdout",
          "text": [
            "(10900, 200)\n",
            "(200,)\n",
            "(500, 200)\n",
            "(200,)\n"
          ]
        }
      ]
    },
    {
      "cell_type": "markdown",
      "source": [
        "# Use Latent Semantic analysis for text embedding"
      ],
      "metadata": {
        "id": "4MpL3jde2QH9"
      }
    },
    {
      "cell_type": "code",
      "source": [
        "from sklearn.feature_extraction.text import CountVectorizer\n",
        "from sklearn.feature_extraction.text import TfidfVectorizer\n",
        "from sklearn.decomposition import TruncatedSVD"
      ],
      "metadata": {
        "id": "gSsF8ZTj2Nf6"
      },
      "execution_count": null,
      "outputs": []
    },
    {
      "cell_type": "markdown",
      "source": [
        "# TFIDF vectorizer\n",
        "# topic encoded text vector using SVD (LSA) on TFIDF vectorizer"
      ],
      "metadata": {
        "id": "aUISTLnD9bTq"
      }
    },
    {
      "cell_type": "code",
      "source": [
        "vectorizer=TfidfVectorizer(stop_words=\"english\")\n",
        "svd=TruncatedSVD(n_components=1000)\n",
        "\n",
        "# for training dataset\n",
        "processed_text = data[\"processed_text\"].apply(lambda x: \" \".join(x))\n",
        "\n",
        "text_vec_tfidf=vectorizer.fit_transform(processed_text)\n",
        "print(\"CountVectorizer shape_training dataset\",text_vec_tfidf.shape)\n",
        "\n",
        "# for valiadation dataset\n",
        "processed_text_val=df_dev[\"processed_text_val\"].apply(lambda x: \" \".join(x))\n",
        "\n",
        "text_vec_tfidf_val=vectorizer.transform(processed_text_val)\n",
        "print(\"CountVectorizer shape_val dataset\",text_vec_tfidf_val.shape)\n",
        "\n",
        "\n",
        "# training dataset\n",
        "lsa_text=svd.fit_transform(text_vec_tfidf)\n",
        "\n",
        "print('\\nvariance_captured_by 1000 components',svd.explained_variance_ratio_.sum())\n",
        "# validation dataset\n",
        "lsa_text_val=svd.transform(text_vec_tfidf_val)\n",
        "\n",
        "\n",
        "print('\\n',lsa_text.shape)\n",
        "print(lsa_text_val.shape)\n",
        "\n",
        "\n"
      ],
      "metadata": {
        "colab": {
          "base_uri": "https://localhost:8080/"
        },
        "id": "3oYtxP2P3Tas",
        "outputId": "78e2ad9a-d674-4445-f408-22b4c6baf686"
      },
      "execution_count": null,
      "outputs": [
        {
          "output_type": "stream",
          "name": "stdout",
          "text": [
            "CountVectorizer shape_training dataset (10900, 7020)\n",
            "CountVectorizer shape_val dataset (500, 7020)\n",
            "\n",
            "variance_captured_by 1000 components 0.7169647318534256\n",
            "\n",
            " (10900, 1000)\n",
            "(500, 1000)\n"
          ]
        }
      ]
    },
    {
      "cell_type": "markdown",
      "source": [
        "# save embedded tfidf-lsa vector as npy file"
      ],
      "metadata": {
        "id": "t9I_zF6m_38s"
      }
    },
    {
      "cell_type": "code",
      "source": [
        "\n",
        "np.save('/content/drive/MyDrive/HMD_project/new/lsa_tfidf_train_text.npy',lsa_text)\n",
        "np.save('/content/drive/MyDrive/HMD_project/new/lsa_tfidf_val_text.npy',lsa_text_val)"
      ],
      "metadata": {
        "id": "gT29sO6eVD9j"
      },
      "execution_count": null,
      "outputs": []
    },
    {
      "cell_type": "markdown",
      "source": [
        "# topic encoded text vector using SVD (LSA) on BOW vectorizer"
      ],
      "metadata": {
        "id": "C0otsg5zAfki"
      }
    },
    {
      "cell_type": "code",
      "source": [
        "\n",
        "vectorizer=CountVectorizer(stop_words=\"english\")\n",
        "svd2=TruncatedSVD(n_components=1000)\n",
        "\n",
        "\n",
        "# for training dataset\n",
        "processed_text = data[\"processed_text\"].apply(lambda x: \" \".join(x))\n",
        "\n",
        "text_vec_bow = vectorizer.fit_transform(processed_text)\n",
        "print(\"CountVectorizer shape_training dataset\",text_vec_bow.shape)\n",
        "\n",
        "# for validation dataset\n",
        "processed_text_val=df_dev[\"processed_text_val\"].apply(lambda x: \" \".join(x))\n",
        "\n",
        "text_vec_bow_val = vectorizer.transform(processed_text_val)\n",
        "print(\"CountVectorizer shape_val dataset\",text_vec_bow_val.shape)\n",
        "\n",
        "\n",
        "lsa_bow_text=svd2.fit_transform(text_vec_bow)\n",
        "\n",
        "## variance captured by 1000 components\n",
        "print('\\nvariance_captured_by 1000 components',svd2.explained_variance_ratio_.sum())\n",
        "lsa_bow_text_val=svd2.transform(text_vec_bow_val)\n",
        "\n",
        "print('\\n',lsa_bow_text.shape)\n",
        "print(lsa_bow_text_val.shape)\n",
        "\n",
        "np.save('/content/drive/MyDrive/HMD_project/new/lsa_bow_train_text.npy',lsa_bow_text)\n",
        "np.save('/content/drive/MyDrive/HMD_project/new/lsa_bow_val_text.npy',lsa_bow_text_val)\n"
      ],
      "metadata": {
        "colab": {
          "base_uri": "https://localhost:8080/"
        },
        "id": "1or1mdr-bXdO",
        "outputId": "178ecc7f-caee-4fe5-d862-e9abcf656e69"
      },
      "execution_count": null,
      "outputs": [
        {
          "output_type": "stream",
          "name": "stdout",
          "text": [
            "CountVectorizer shape_training dataset (10900, 7020)\n",
            "CountVectorizer shape_val dataset (500, 7020)\n",
            "\n",
            "variance_captured_by 1000 components 0.8145179671431473\n",
            "\n",
            " (10900, 1000)\n",
            "(500, 1000)\n"
          ]
        }
      ]
    },
    {
      "cell_type": "markdown",
      "source": [
        "# TFIDF vectorizer\n",
        "# topic encoded text vector using NMF on TFIDF vectorizer"
      ],
      "metadata": {
        "id": "119y5vBenqak"
      }
    },
    {
      "cell_type": "code",
      "source": [
        "from sklearn.decomposition import NMF\n",
        "vectorizer=TfidfVectorizer()\n",
        "nmf = NMF(n_components=200)\n",
        "\n",
        "# for training dataset\n",
        "processed_text = data[\"processed_text\"].apply(lambda x: \" \".join(x))\n",
        "\n",
        "text_vec_tfidf=vectorizer.fit_transform(processed_text)\n",
        "print(\"CountVectorizer shape_training dataset\",text_vec_tfidf.shape)\n",
        "\n",
        "# for valiadation dataset\n",
        "processed_text_val=df_dev[\"processed_text_val\"].apply(lambda x: \" \".join(x))\n",
        "\n",
        "text_vec_tfidf_val=vectorizer.transform(processed_text_val)\n",
        "print(\"CountVectorizer shape_val dataset\",text_vec_tfidf_val.shape)\n",
        "\n",
        "\n",
        "# training dataset\n",
        "nmf_text=nmf.fit_transform(text_vec_tfidf)\n",
        "\n",
        "# validation dataset\n",
        "nmf_text_val=nmf.transform(text_vec_tfidf_val)\n",
        "\n",
        "\n",
        "print(nmf_text.shape)\n",
        "print(nmf_text_val.shape)"
      ],
      "metadata": {
        "colab": {
          "base_uri": "https://localhost:8080/"
        },
        "id": "pwXBPjcAnr5n",
        "outputId": "3d55820e-a928-40b4-9691-fae39085cff1"
      },
      "execution_count": null,
      "outputs": [
        {
          "output_type": "stream",
          "name": "stdout",
          "text": [
            "CountVectorizer shape_training dataset (10900, 7087)\n",
            "CountVectorizer shape_val dataset (500, 7087)\n",
            "(10900, 200)\n",
            "(500, 200)\n"
          ]
        }
      ]
    },
    {
      "cell_type": "code",
      "source": [
        "np.save('/content/drive/MyDrive/HMD_project/new/nmf2_tfidf_train_text.npy',nmf_text)\n",
        "np.save('/content/drive/MyDrive/HMD_project/new/nmf2_tfidf_val_text.npy',nmf_text_val)"
      ],
      "metadata": {
        "id": "r_W1Z8_usGrI"
      },
      "execution_count": null,
      "outputs": []
    }
  ]
}