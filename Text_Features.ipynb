{
  "nbformat": 4,
  "nbformat_minor": 0,
  "metadata": {
    "colab": {
      "provenance": [],
      "gpuType": "T4",
      "include_colab_link": true
    },
    "kernelspec": {
      "name": "python3",
      "display_name": "Python 3"
    },
    "language_info": {
      "name": "python"
    },
    "accelerator": "GPU",
    "gpuClass": "standard"
  },
  "cells": [
    {
      "cell_type": "markdown",
      "metadata": {
        "id": "view-in-github",
        "colab_type": "text"
      },
      "source": [
        "<a href=\"https://colab.research.google.com/github/sangitainst/HMD/blob/main/Text_Features.ipynb\" target=\"_parent\"><img src=\"https://colab.research.google.com/assets/colab-badge.svg\" alt=\"Open In Colab\"/></a>"
      ]
    },
    {
      "cell_type": "code",
      "source": [
        "import numpy as np\n",
        "import pandas as pd\n",
        "import matplotlib.pyplot as plt\n",
        "print(\"success\")"
      ],
      "metadata": {
        "id": "PTTBJ-ZwFpMR",
        "colab": {
          "base_uri": "https://localhost:8080/"
        },
        "outputId": "c19dc4c6-1e9d-475a-a1f7-2ed6f87a52f1"
      },
      "execution_count": 1,
      "outputs": [
        {
          "output_type": "stream",
          "name": "stdout",
          "text": [
            "success\n"
          ]
        }
      ]
    },
    {
      "cell_type": "markdown",
      "source": [
        "# Mount google drive"
      ],
      "metadata": {
        "id": "bP9RWwjWDsjp"
      }
    },
    {
      "cell_type": "code",
      "source": [
        "from google.colab import drive\n",
        "drive.mount('/content/drive')"
      ],
      "metadata": {
        "id": "iXnrdOiOEssq",
        "colab": {
          "base_uri": "https://localhost:8080/"
        },
        "outputId": "318019a1-620d-4452-ab53-a00d601019e1"
      },
      "execution_count": 2,
      "outputs": [
        {
          "output_type": "stream",
          "name": "stdout",
          "text": [
            "Mounted at /content/drive\n"
          ]
        }
      ]
    },
    {
      "cell_type": "markdown",
      "source": [
        "# Load train and validation data from Facebook HMD dataset"
      ],
      "metadata": {
        "id": "ZHsohRMnD2GY"
      }
    },
    {
      "cell_type": "code",
      "source": [
        "folder_path_train =\"/content/drive/MyDrive/HMD_project/train.jsonl\"\n",
        "folder_path_dev =\"/content/drive/MyDrive/HMD_project/dev.jsonl\"\n",
        "df_train = pd.read_json(folder_path_train,lines=True)\n",
        "df_dev=pd.read_json(folder_path_dev,lines=True)\n",
        "\n",
        "print(df_dev.tail())"
      ],
      "metadata": {
        "id": "HM_Rf6shG9KS",
        "colab": {
          "base_uri": "https://localhost:8080/"
        },
        "outputId": "b1bf5374-57dd-42e9-e0cd-6345908a5d03"
      },
      "execution_count": 3,
      "outputs": [
        {
          "output_type": "stream",
          "name": "stdout",
          "text": [
            "        id            img  label  \\\n",
            "495  83675  img/83675.png      0   \n",
            "496  37198  img/37198.png      0   \n",
            "497  48670  img/48670.png      0   \n",
            "498   9863  img/09863.png      0   \n",
            "499  97320  img/97320.png      0   \n",
            "\n",
            "                                                  text  \n",
            "495                   i'm gonna be like phelps one day  \n",
            "496  when you're so relaxed you can feel yourself g...  \n",
            "497  look at this sandwich maker club i found on wi...  \n",
            "498                             diverse group of women  \n",
            "499  \"when your dishwasher is broken so you take it...  \n"
          ]
        }
      ]
    },
    {
      "cell_type": "markdown",
      "source": [
        "# check distribution of data in train and validation dataset"
      ],
      "metadata": {
        "id": "NMVm7Qe9ED9i"
      }
    },
    {
      "cell_type": "code",
      "source": [
        "# distribution of movies based on certificate\n",
        "df_train['label'].value_counts().plot(kind='bar', figsize=(6, 6),width=0.2,title='Training data')\n",
        "\n",
        "print('Distribution of training dataset\\n',df_train.label.value_counts(),\"\\n\")\n",
        "print(\"Distribution of validation dataset\\n\",df_dev.label.value_counts())"
      ],
      "metadata": {
        "colab": {
          "base_uri": "https://localhost:8080/",
          "height": 705
        },
        "id": "Z3lFZTCkg01F",
        "outputId": "00015423-ceb2-4540-8a4f-2f9a36c5b21e"
      },
      "execution_count": 4,
      "outputs": [
        {
          "output_type": "stream",
          "name": "stdout",
          "text": [
            "Distribution of training dataset\n",
            " 0    5450\n",
            "1    3050\n",
            "Name: label, dtype: int64 \n",
            "\n",
            "Distribution of validation dataset\n",
            " 1    250\n",
            "0    250\n",
            "Name: label, dtype: int64\n"
          ]
        },
        {
          "output_type": "display_data",
          "data": {
            "text/plain": [
              "<Figure size 600x600 with 1 Axes>"
            ],
            "image/png": "[encoded data removed]"
          },
          "metadata": {}
        }
      ]
    },
    {
      "cell_type": "markdown",
      "source": [
        "# Check null values"
      ],
      "metadata": {
        "id": "nYaf92Y3ETRs"
      }
    },
    {
      "cell_type": "code",
      "source": [
        "print(df_train.isna().sum())\n",
        "\n",
        "print(\"\\n\\n\",df_dev.isna().sum())"
      ],
      "metadata": {
        "colab": {
          "base_uri": "https://localhost:8080/"
        },
        "id": "glWmO3MdEYQN",
        "outputId": "faf68d68-321a-420c-da05-a499e966ef39"
      },
      "execution_count": 5,
      "outputs": [
        {
          "output_type": "stream",
          "name": "stdout",
          "text": [
            "id       0\n",
            "img      0\n",
            "label    0\n",
            "text     0\n",
            "dtype: int64\n",
            "\n",
            "\n",
            " id       0\n",
            "img      0\n",
            "label    0\n",
            "text     0\n",
            "dtype: int64\n"
          ]
        }
      ]
    },
    {
      "cell_type": "markdown",
      "source": [
        "# form the text file load the text corresponding to the augmented images"
      ],
      "metadata": {
        "id": "Y4djqWooBvTL"
      }
    },
    {
      "cell_type": "code",
      "source": [
        "with open('/content/drive/MyDrive/HMD_project/new/text_aug_norm.txt','r') as f:\n",
        "  lines=f.readlines()\n",
        "  file_names=[]\n",
        "  for i in lines:\n",
        "    file_names.append(i[:i.find('\\n')])\n",
        "  print(type(file_names[0]))"
      ],
      "metadata": {
        "colab": {
          "base_uri": "https://localhost:8080/"
        },
        "id": "8NdMnuKMiXCi",
        "outputId": "22e097ea-756e-452c-b7b4-a4e22f6b4a36"
      },
      "execution_count": 6,
      "outputs": [
        {
          "output_type": "stream",
          "name": "stdout",
          "text": [
            "<class 'str'>\n"
          ]
        }
      ]
    },
    {
      "cell_type": "markdown",
      "source": [
        "# add augmented text in the training dataframe"
      ],
      "metadata": {
        "id": "sDHgEXtSB93t"
      }
    },
    {
      "cell_type": "code",
      "source": [
        "for i in range(len(file_names)):\n",
        "  df_train.loc[len(df_train.index)] = [1, 'img/1',1,file_names[i]] \n"
      ],
      "metadata": {
        "id": "B9VTsS7Ckq2K"
      },
      "execution_count": 7,
      "outputs": []
    },
    {
      "cell_type": "code",
      "source": [
        "data = df_train"
      ],
      "metadata": {
        "id": "txsFyWvZKjsQ"
      },
      "execution_count": 8,
      "outputs": []
    },
    {
      "cell_type": "code",
      "source": [
        "import spacy"
      ],
      "metadata": {
        "id": "UldUr0BhUhXP"
      },
      "execution_count": 9,
      "outputs": []
    },
    {
      "cell_type": "markdown",
      "source": [
        "# use sapcy 'en_core_web_sm\" model fpr preporocessing"
      ],
      "metadata": {
        "id": "Yj9dInFHNn5X"
      }
    },
    {
      "cell_type": "code",
      "source": [
        "import spacy.cli\n",
        "spacy.cli.download(\"en_core_web_sm\")\n",
        "nlp = spacy.load(\"en_core_web_sm\")"
      ],
      "metadata": {
        "id": "f8x8ehH0Kmcx",
        "colab": {
          "base_uri": "https://localhost:8080/"
        },
        "outputId": "98b402e7-4e3f-4fe7-94f2-29d59eeff4a7"
      },
      "execution_count": 10,
      "outputs": [
        {
          "output_type": "stream",
          "name": "stdout",
          "text": [
            "\u001b[38;5;2m✔ Download and installation successful\u001b[0m\n",
            "You can now load the package via spacy.load('en_core_web_sm')\n"
          ]
        }
      ]
    },
    {
      "cell_type": "markdown",
      "source": [
        "# tokenize each word in a sentence and apply lemmatization on it, remove punctuation, space, brackets if any"
      ],
      "metadata": {
        "id": "b3k-H-VpN4lu"
      }
    },
    {
      "cell_type": "code",
      "source": [
        "\n",
        "def preprocess(text):\n",
        "  doc=nlp(text)\n",
        "  filtered_token=[]\n",
        "\n",
        "  for token in doc:\n",
        "  \n",
        "    if token.is_punct or token.is_space or token.is_bracket or token.is_stop:\n",
        "      continue\n",
        "    else:\n",
        "      token=token.lemma_\n",
        "     \n",
        "      filtered_token.append(token)\n",
        "  return filtered_token\n",
        "  \n",
        "  \n"
      ],
      "metadata": {
        "id": "Vi07mYFuWQJ2"
      },
      "execution_count": 11,
      "outputs": []
    },
    {
      "cell_type": "markdown",
      "source": [
        "# example showing text preprocessing "
      ],
      "metadata": {
        "id": "Qb0cTzkPOhkC"
      }
    },
    {
      "cell_type": "code",
      "source": [
        "tokens=preprocess(\"My best friend Anu, (who is three months older than me) is coming to my house tonight!!!.\")\n",
        "tokens"
      ],
      "metadata": {
        "colab": {
          "base_uri": "https://localhost:8080/"
        },
        "id": "xPi7NlZUrbJr",
        "outputId": "bc0f1cc7-27b9-45eb-9ec0-51f58543ccf9"
      },
      "execution_count": 12,
      "outputs": [
        {
          "output_type": "execute_result",
          "data": {
            "text/plain": [
              "['good', 'friend', 'Anu', 'month', 'old', 'come', 'house', 'tonight']"
            ]
          },
          "metadata": {},
          "execution_count": 12
        }
      ]
    },
    {
      "cell_type": "markdown",
      "source": [
        "# Apply preprocessing on the text column of training dataset and validation dataset"
      ],
      "metadata": {
        "id": "VYx4iZyGQYkk"
      }
    },
    {
      "cell_type": "code",
      "source": [
        "\n",
        "df_dev['processed_text_val']=df_dev['text'].apply(lambda x: preprocess(x))\n",
        "\n",
        "data['processed_text']=data['text'].apply(lambda x: preprocess(x))\n",
        "\n",
        "data.head()\n"
      ],
      "metadata": {
        "colab": {
          "base_uri": "https://localhost:8080/",
          "height": 206
        },
        "id": "OZe9BdtuOrcX",
        "outputId": "c3d634bf-4bbc-45fa-af6d-bda86f0fed83"
      },
      "execution_count": 13,
      "outputs": [
        {
          "output_type": "execute_result",
          "data": {
            "text/plain": [
              "      id            img  label  \\\n",
              "0  42953  img/42953.png      0   \n",
              "1  23058  img/23058.png      0   \n",
              "2  13894  img/13894.png      0   \n",
              "3  37408  img/37408.png      0   \n",
              "4  82403  img/82403.png      0   \n",
              "\n",
              "                                                text  \\\n",
              "0   its their character not their color that matters   \n",
              "1  don't be afraid to love again everyone is not ...   \n",
              "2                           putting bows on your pet   \n",
              "3  i love everything and everybody! except for sq...   \n",
              "4  everybody loves chocolate chip cookies, even h...   \n",
              "\n",
              "                                      processed_text  \n",
              "0                         [character, color, matter]  \n",
              "1                           [afraid, love, like, ex]  \n",
              "2                                    [put, bow, pet]  \n",
              "3        [love, everybody, squirrel, hate, squirrel]  \n",
              "4  [everybody, love, chocolate, chip, cookie, hit...  "
            ],
            "text/html": [
              "\n",
              "  <div id=\"df-dda82246-92fe-44a7-b857-230312fbe515\">\n",
              "    <div class=\"colab-df-container\">\n",
              "      <div>\n",
              "<style scoped>\n",
              "    .dataframe tbody tr th:only-of-type {\n",
              "        vertical-align: middle;\n",
              "    }\n",
              "\n",
              "    .dataframe tbody tr th {\n",
              "        vertical-align: top;\n",
              "    }\n",
              "\n",
              "    .dataframe thead th {\n",
              "        text-align: right;\n",
              "    }\n",
              "</style>\n",
              "<table border=\"1\" class=\"dataframe\">\n",
              "  <thead>\n",
              "    <tr style=\"text-align: right;\">\n",
              "      <th></th>\n",
              "      <th>id</th>\n",
              "      <th>img</th>\n",
              "      <th>label</th>\n",
              "      <th>text</th>\n",
              "      <th>processed_text</th>\n",
              "    </tr>\n",
              "  </thead>\n",
              "  <tbody>\n",
              "    <tr>\n",
              "      <th>0</th>\n",
              "      <td>42953</td>\n",
              "      <td>img/42953.png</td>\n",
              "      <td>0</td>\n",
              "      <td>its their character not their color that matters</td>\n",
              "      <td>[character, color, matter]</td>\n",
              "    </tr>\n",
              "    <tr>\n",
              "      <th>1</th>\n",
              "      <td>23058</td>\n",
              "      <td>img/23058.png</td>\n",
              "      <td>0</td>\n",
              "      <td>don't be afraid to love again everyone is not ...</td>\n",
              "      <td>[afraid, love, like, ex]</td>\n",
              "    </tr>\n",
              "    <tr>\n",
              "      <th>2</th>\n",
              "      <td>13894</td>\n",
              "      <td>img/13894.png</td>\n",
              "      <td>0</td>\n",
              "      <td>putting bows on your pet</td>\n",
              "      <td>[put, bow, pet]</td>\n",
              "    </tr>\n",
              "    <tr>\n",
              "      <th>3</th>\n",
              "      <td>37408</td>\n",
              "      <td>img/37408.png</td>\n",
              "      <td>0</td>\n",
              "      <td>i love everything and everybody! except for sq...</td>\n",
              "      <td>[love, everybody, squirrel, hate, squirrel]</td>\n",
              "    </tr>\n",
              "    <tr>\n",
              "      <th>4</th>\n",
              "      <td>82403</td>\n",
              "      <td>img/82403.png</td>\n",
              "      <td>0</td>\n",
              "      <td>everybody loves chocolate chip cookies, even h...</td>\n",
              "      <td>[everybody, love, chocolate, chip, cookie, hit...</td>\n",
              "    </tr>\n",
              "  </tbody>\n",
              "</table>\n",
              "</div>\n",
              "      <button class=\"colab-df-convert\" onclick=\"convertToInteractive('df-dda82246-92fe-44a7-b857-230312fbe515')\"\n",
              "              title=\"Convert this dataframe to an interactive table.\"\n",
              "              style=\"display:none;\">\n",
              "        \n",
              "  <svg xmlns=\"http://www.w3.org/2000/svg\" height=\"24px\"viewBox=\"0 0 24 24\"\n",
              "       width=\"24px\">\n",
              "    <path d=\"M0 0h24v24H0V0z\" fill=\"none\"/>\n",
              "    <path d=\"M18.56 5.44l.94 2.06.94-2.06 2.06-.94-2.06-.94-.94-2.06-.94 2.06-2.06.94zm-11 1L8.5 8.5l.94-2.06 2.06-.94-2.06-.94L8.5 2.5l-.94 2.06-2.06.94zm10 10l.94 2.06.94-2.06 2.06-.94-2.06-.94-.94-2.06-.94 2.06-2.06.94z\"/><path d=\"M17.41 7.96l-1.37-1.37c-.4-.4-.92-.59-1.43-.59-.52 0-1.04.2-1.43.59L10.3 9.45l-7.72 7.72c-.78.78-.78 2.05 0 2.83L4 21.41c.39.39.9.59 1.41.59.51 0 1.02-.2 1.41-.59l7.78-7.78 2.81-2.81c.8-.78.8-2.07 0-2.86zM5.41 20L4 18.59l7.72-7.72 1.47 1.35L5.41 20z\"/>\n",
              "  </svg>\n",
              "      </button>\n",
              "      \n",
              "  <style>\n",
              "    .colab-df-container {\n",
              "      display:flex;\n",
              "      flex-wrap:wrap;\n",
              "      gap: 12px;\n",
              "    }\n",
              "\n",
              "    .colab-df-convert {\n",
              "      background-color: #E8F0FE;\n",
              "      border: none;\n",
              "      border-radius: 50%;\n",
              "      cursor: pointer;\n",
              "      display: none;\n",
              "      fill: #1967D2;\n",
              "      height: 32px;\n",
              "      padding: 0 0 0 0;\n",
              "      width: 32px;\n",
              "    }\n",
              "\n",
              "    .colab-df-convert:hover {\n",
              "      background-color: #E2EBFA;\n",
              "      box-shadow: 0px 1px 2px rgba(60, 64, 67, 0.3), 0px 1px 3px 1px rgba(60, 64, 67, 0.15);\n",
              "      fill: #174EA6;\n",
              "    }\n",
              "\n",
              "    [theme=dark] .colab-df-convert {\n",
              "      background-color: #3B4455;\n",
              "      fill: #D2E3FC;\n",
              "    }\n",
              "\n",
              "    [theme=dark] .colab-df-convert:hover {\n",
              "      background-color: #434B5C;\n",
              "      box-shadow: 0px 1px 3px 1px rgba(0, 0, 0, 0.15);\n",
              "      filter: drop-shadow(0px 1px 2px rgba(0, 0, 0, 0.3));\n",
              "      fill: #FFFFFF;\n",
              "    }\n",
              "  </style>\n",
              "\n",
              "      <script>\n",
              "        const buttonEl =\n",
              "          document.querySelector('#df-dda82246-92fe-44a7-b857-230312fbe515 button.colab-df-convert');\n",
              "        buttonEl.style.display =\n",
              "          google.colab.kernel.accessAllowed ? 'block' : 'none';\n",
              "\n",
              "        async function convertToInteractive(key) {\n",
              "          const element = document.querySelector('#df-dda82246-92fe-44a7-b857-230312fbe515');\n",
              "          const dataTable =\n",
              "            await google.colab.kernel.invokeFunction('convertToInteractive',\n",
              "                                                     [key], {});\n",
              "          if (!dataTable) return;\n",
              "\n",
              "          const docLinkHtml = 'Like what you see? Visit the ' +\n",
              "            '<a target=\"_blank\" href=https://colab.research.google.com/notebooks/data_table.ipynb>data table notebook</a>'\n",
              "            + ' to learn more about interactive tables.';\n",
              "          element.innerHTML = '';\n",
              "          dataTable['output_type'] = 'display_data';\n",
              "          await google.colab.output.renderOutput(dataTable, element);\n",
              "          const docLink = document.createElement('div');\n",
              "          docLink.innerHTML = docLinkHtml;\n",
              "          element.appendChild(docLink);\n",
              "        }\n",
              "      </script>\n",
              "    </div>\n",
              "  </div>\n",
              "  "
            ]
          },
          "metadata": {},
          "execution_count": 13
        }
      ]
    },
    {
      "cell_type": "markdown",
      "source": [
        "# word2vec conversion using gensim 'glove-twitter-200' model"
      ],
      "metadata": {
        "id": "mRpQpmhhJkh9"
      }
    },
    {
      "cell_type": "code",
      "source": [
        "\n",
        "import gensim.downloader\n",
        "print(list(gensim.downloader.info()['models'].keys()))\n",
        "\n",
        "import gensim.downloader as api\n",
        "wv=api.load('glove-twitter-200')\n",
        "\n",
        "# wv.save('/content/drive/MyDrive/HMD_project/glove-twitter-200')\n",
        "\n",
        "# after saving the model load it from drive\n",
        "# from gensim.models import KeyedVectors\n",
        "# wv=KeyedVectors.load('/content/drive/MyDrive/HMD_project/glove-twitter-200')\n"
      ],
      "metadata": {
        "colab": {
          "base_uri": "https://localhost:8080/"
        },
        "id": "Zj80bfYpMWjQ",
        "outputId": "0144b8c6-90b7-4c62-b6ae-d98784270ddc"
      },
      "execution_count": 14,
      "outputs": [
        {
          "output_type": "stream",
          "name": "stdout",
          "text": [
            "['fasttext-wiki-news-subwords-300', 'conceptnet-numberbatch-17-06-300', 'word2vec-ruscorpora-300', 'word2vec-google-news-300', 'glove-wiki-gigaword-50', 'glove-wiki-gigaword-100', 'glove-wiki-gigaword-200', 'glove-wiki-gigaword-300', 'glove-twitter-25', 'glove-twitter-50', 'glove-twitter-100', 'glove-twitter-200', '__testing_word2vec-matrix-synopsis']\n",
            "[=================================================-] 99.6% 755.4/758.5MB downloaded\n"
          ]
        }
      ]
    },
    {
      "cell_type": "markdown",
      "source": [
        "# function to get word vector and get average over a text"
      ],
      "metadata": {
        "id": "oO8cMZp9REGn"
      }
    },
    {
      "cell_type": "code",
      "source": [
        "def gensim_vector(token):\n",
        "  vec_size=wv.vector_size\n",
        "  wv_final=np.zeros(vec_size) # take a vector consisting '0s' having size of wv\n",
        "\n",
        "  count=1\n",
        "  for t in token:\n",
        "    if t in wv:\n",
        "      count += 1\n",
        "      wv_final += wv[t] # vectorize word and add to previous value\n",
        "\n",
        "  return wv_final/count # take the average\n"
      ],
      "metadata": {
        "id": "y8gI48rB-5Bw"
      },
      "execution_count": 15,
      "outputs": []
    },
    {
      "cell_type": "markdown",
      "source": [
        "# apply pretrained word2vec model on processed text column of the validation and training dataset"
      ],
      "metadata": {
        "id": "_wLZFw-hTeQm"
      }
    },
    {
      "cell_type": "code",
      "source": [
        "\n",
        "data[\"text_vector\"]=data[\"processed_text\"].apply(gensim_vector)\n",
        "df_dev[\"text_vector_val\"]=df_dev[\"processed_text_val\"].apply(gensim_vector)\n"
      ],
      "metadata": {
        "id": "PcSPDhusnZk3"
      },
      "execution_count": 16,
      "outputs": []
    },
    {
      "cell_type": "markdown",
      "source": [
        "# word2vec embeddings of train and validation data"
      ],
      "metadata": {
        "id": "MioBOETDuTHz"
      }
    },
    {
      "cell_type": "code",
      "source": [
        "text_vector=data['text_vector']\n",
        "text_vector=np.stack(text_vector)\n",
        "print(text_vector.shape)\n",
        "print(text_vector[0].shape)\n",
        "\n",
        "\n",
        "text_vector_val=df_dev['text_vector_val']\n",
        "text_vector_val=np.stack(text_vector_val)\n",
        "print(text_vector_val.shape)\n",
        "print(text_vector_val[0].shape)\n",
        "\n"
      ],
      "metadata": {
        "colab": {
          "base_uri": "https://localhost:8080/"
        },
        "id": "IDxEX5T7uRSV",
        "outputId": "e1369606-da00-4fcf-cb2c-d4354234cea1"
      },
      "execution_count": 17,
      "outputs": [
        {
          "output_type": "stream",
          "name": "stdout",
          "text": [
            "(10400, 200)\n",
            "(200,)\n",
            "(500, 200)\n",
            "(200,)\n"
          ]
        }
      ]
    },
    {
      "cell_type": "markdown",
      "source": [
        "# Use topic modeling for text embedding"
      ],
      "metadata": {
        "id": "4MpL3jde2QH9"
      }
    },
    {
      "cell_type": "code",
      "source": [
        "from sklearn.feature_extraction.text import CountVectorizer\n",
        "from sklearn.feature_extraction.text import TfidfVectorizer\n",
        "from sklearn.decomposition import TruncatedSVD"
      ],
      "metadata": {
        "id": "gSsF8ZTj2Nf6"
      },
      "execution_count": 18,
      "outputs": []
    },
    {
      "cell_type": "markdown",
      "source": [
        "# Topic modeling using BOW vectorizer and truncated SVD\n"
      ],
      "metadata": {
        "id": "aUISTLnD9bTq"
      }
    },
    {
      "cell_type": "code",
      "source": [
        "vectorizer=CountVectorizer(stop_words=\"english\")\n",
        "svd=TruncatedSVD(n_components=1000)\n",
        "\n",
        "# for training dataset\n",
        "processed_text = data[\"processed_text\"].apply(lambda x: \" \".join(x))\n",
        "\n",
        "text_vec = vectorizer.fit_transform(processed_text)\n",
        "print(\"CountVectorizer shape_training dataset\",text_vec.shape)\n",
        "\n",
        "# for valiadation dataset\n",
        "processed_text_val = df_dev[\"processed_text_val\"].apply(lambda x: \" \".join(x))\n",
        "\n",
        "text_vec_val = vectorizer.transform(processed_text_val)\n",
        "print(\"CountVectorizer shape_val dataset\",text_vec_val.shape)\n",
        "\n",
        "\n",
        "# training dataset\n",
        "lsa_text = svd.fit_transform(text_vec)\n",
        "\n",
        "print('\\nvariance_captured_by 1000 components',svd.explained_variance_ratio_.sum())\n",
        "# validation dataset\n",
        "lsa_text_val = svd.transform(text_vec_val)\n",
        "\n",
        "\n",
        "print('\\n',lsa_text.shape)\n",
        "print(lsa_text_val.shape)"
      ],
      "metadata": {
        "colab": {
          "base_uri": "https://localhost:8080/"
        },
        "id": "3oYtxP2P3Tas",
        "outputId": "8e5add40-7a94-48fe-a187-566805c372ec"
      },
      "execution_count": 19,
      "outputs": [
        {
          "output_type": "stream",
          "name": "stdout",
          "text": [
            "CountVectorizer shape_training dataset (10400, 6879)\n",
            "CountVectorizer shape_val dataset (500, 6879)\n",
            "\n",
            "variance_captured_by 1000 components 0.8180880994378601\n",
            "\n",
            " (10400, 1000)\n",
            "(500, 1000)\n"
          ]
        }
      ]
    },
    {
      "cell_type": "markdown",
      "source": [
        "\n",
        "# topic encoded text vector using NMF on TFIDF vectorizer"
      ],
      "metadata": {
        "id": "119y5vBenqak"
      }
    },
    {
      "cell_type": "code",
      "source": [
        "from sklearn.decomposition import NMF\n",
        "vectorizer=TfidfVectorizer()\n",
        "nmf = NMF(n_components=200)\n",
        "\n",
        "# for training dataset\n",
        "processed_text = data[\"processed_text\"].apply(lambda x: \" \".join(x))\n",
        "\n",
        "text_vec_tfidf=vectorizer.fit_transform(processed_text)\n",
        "print(\"CountVectorizer shape_training dataset\",text_vec_tfidf.shape)\n",
        "\n",
        "# for valiadation dataset\n",
        "processed_text_val = df_dev[\"processed_text_val\"].apply(lambda x: \" \".join(x))\n",
        "\n",
        "text_vec_tfidf_val = vectorizer.transform(processed_text_val)\n",
        "print(\"CountVectorizer shape_val dataset\",text_vec_tfidf_val.shape)\n",
        "\n",
        "\n",
        "# training dataset\n",
        "nmf_text = nmf.fit_transform(text_vec_tfidf)\n",
        "\n",
        "# validation dataset\n",
        "nmf_text_val=nmf.transform(text_vec_tfidf_val)\n",
        "\n",
        "\n",
        "print(nmf_text.shape)\n",
        "print(nmf_text_val.shape)"
      ],
      "metadata": {
        "colab": {
          "base_uri": "https://localhost:8080/"
        },
        "id": "pwXBPjcAnr5n",
        "outputId": "d9da8d6e-363d-4d68-a861-da018fb66148"
      },
      "execution_count": 20,
      "outputs": [
        {
          "output_type": "stream",
          "name": "stdout",
          "text": [
            "CountVectorizer shape_training dataset (10400, 6944)\n",
            "CountVectorizer shape_val dataset (500, 6944)\n",
            "(10400, 200)\n",
            "(500, 200)\n"
          ]
        }
      ]
    }
  ]
}