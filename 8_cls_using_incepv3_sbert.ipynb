{
  "nbformat": 4,
  "nbformat_minor": 0,
  "metadata": {
    "colab": {
      "provenance": [],
      "gpuType": "T4"
    },
    "kernelspec": {
      "name": "python3",
      "display_name": "Python 3"
    },
    "language_info": {
      "name": "python"
    },
    "accelerator": "GPU"
  },
  "cells": [
    {
      "cell_type": "code",
      "execution_count": null,
      "metadata": {
        "id": "43I8piYDCnWp"
      },
      "outputs": [],
      "source": [
        "import pandas as pd\n",
        "import numpy as np\n",
        "\n",
        "\n",
        "from keras.applications.inception_v3 import InceptionV3, preprocess_input\n",
        "\n",
        "import matplotlib.pyplot as plt\n",
        "from sklearn.metrics import classification_report\n",
        "from sklearn.metrics import matthews_corrcoef\n",
        "from sklearn.ensemble import AdaBoostClassifier\n",
        "from sklearn.ensemble import GradientBoostingClassifier\n",
        "from sklearn.linear_model import LogisticRegression\n",
        "from sklearn.ensemble import RandomForestClassifier\n",
        "from sklearn.metrics import roc_curve\n",
        "from keras.layers import GlobalMaxPooling2D"
      ]
    },
    {
      "cell_type": "markdown",
      "source": [
        "# During experimentation embeddings are done in seperate programs and saved in a .npy file. The saved embeddings are loaded in this notebook and classification task is performed due to memory limitations in the Google colab environment."
      ],
      "metadata": {
        "id": "5oIfSDxQO7C6"
      }
    },
    {
      "cell_type": "code",
      "source": [
        "from google.colab import drive\n",
        "drive.mount('/content/drive')"
      ],
      "metadata": {
        "colab": {
          "base_uri": "https://localhost:8080/"
        },
        "id": "w80Vf3IHDgKh",
        "outputId": "7dd6deba-6b8a-4019-aee5-5cb7496c3028"
      },
      "execution_count": null,
      "outputs": [
        {
          "output_type": "stream",
          "name": "stdout",
          "text": [
            "Mounted at /content/drive\n"
          ]
        }
      ]
    },
    {
      "cell_type": "code",
      "source": [
        "\n",
        "# Load the InceptionV3 model pre-trained on ImageNet\n",
        "model=InceptionV3(input_shape=(224,224,3),weights='imagenet',include_top=False)\n",
        "for layer in model.layers:\n",
        "    layer.trainable=False\n",
        "\n",
        "x = model.output\n",
        "# x = GlobalMaxPooling2D()(x)\n",
        "\n",
        "model_input=np.load('/content/drive/MyDrive/Inception_Sbert/x_train_norm.npy')\n",
        "model_input_val=np.load('/content/drive/MyDrive/Inception_Sbert/x_val_norm.npy')\n",
        "\n",
        "print(model_input.shape,model_input_val.shape)"
      ],
      "metadata": {
        "id": "RIsASSecLHZC"
      },
      "execution_count": null,
      "outputs": []
    },
    {
      "cell_type": "code",
      "source": [
        "final_model = keras.Model(inputs=model.input, outputs=x)\n"
      ],
      "metadata": {
        "id": "8d39oYRaLT-r"
      },
      "execution_count": null,
      "outputs": []
    },
    {
      "cell_type": "code",
      "source": [
        "output = final_model.predict(model_input,batch_size=32)\n",
        "\n",
        "\n",
        "output.shape"
      ],
      "metadata": {
        "colab": {
          "base_uri": "https://localhost:8080/"
        },
        "id": "VUNjZbIPJUh8",
        "outputId": "78221edd-2753-4646-a3da-5baac5ecd54d"
      },
      "execution_count": null,
      "outputs": [
        {
          "output_type": "stream",
          "name": "stdout",
          "text": [
            "341/341 [==============================] - 1089s 3s/step\n"
          ]
        },
        {
          "output_type": "execute_result",
          "data": {
            "text/plain": [
              "(10900, 2048)"
            ]
          },
          "metadata": {},
          "execution_count": 5
        }
      ]
    },
    {
      "cell_type": "code",
      "source": [
        "output_val = final_model.predict(model_input_val,batch_size=32)\n",
        "output_val.shape"
      ],
      "metadata": {
        "id": "3XOKksfPLkMu"
      },
      "execution_count": null,
      "outputs": []
    },
    {
      "cell_type": "code",
      "source": [
        "np.save('/content/drive/MyDrive/Inception_Sbert/x_train_inception2048.npy',output)\n",
        "np.save('/content/drive/MyDrive/Inception_Sbert/x_val_inception2048.npy',output_val)"
      ],
      "metadata": {
        "id": "Is1A8nHyLnHE"
      },
      "execution_count": null,
      "outputs": []
    },
    {
      "cell_type": "markdown",
      "source": [
        "# Image embedding (Inception v3) and label"
      ],
      "metadata": {
        "id": "tojvKaYgE_xd"
      }
    },
    {
      "cell_type": "code",
      "source": [
        "x_img=np.load('/content/drive/MyDrive/Inception_Sbert/x_train_inception2048.npy')\n",
        "x_img_val=np.load('/content/drive/MyDrive/Inception_Sbert/x_val_inception2048.npy')\n",
        "\n",
        "y=np.load('/content/drive/MyDrive/Inception_Sbert/y_train_norm.npy')\n",
        "y_val=np.load('/content/drive/MyDrive/Inception_Sbert/y_val_norm.npy')\n",
        "\n",
        "\n",
        "print(x_img.shape,y.shape)\n",
        "print(x_img_val.shape,y_val.shape)"
      ],
      "metadata": {
        "colab": {
          "base_uri": "https://localhost:8080/"
        },
        "id": "TEkA5gxlCxED",
        "outputId": "992a4a15-03f0-47c2-e0fa-2643b0e0bd19"
      },
      "execution_count": null,
      "outputs": [
        {
          "output_type": "stream",
          "name": "stdout",
          "text": [
            "(10900, 2048) (10900, 1)\n",
            "(500, 2048) (500, 1)\n"
          ]
        }
      ]
    },
    {
      "cell_type": "code",
      "source": [
        "y=np.reshape(y,y.shape[0])\n",
        "y_val=np.reshape(y_val,y_val.shape[0])\n",
        "\n",
        "print(y.shape)\n",
        "print(y_val.shape)\n"
      ],
      "metadata": {
        "colab": {
          "base_uri": "https://localhost:8080/"
        },
        "id": "T53qi2sdgZn7",
        "outputId": "0cf3c1ca-ca58-46b3-968e-a1170024ea6c"
      },
      "execution_count": null,
      "outputs": [
        {
          "output_type": "stream",
          "name": "stdout",
          "text": [
            "(10900,)\n",
            "(500,)\n"
          ]
        }
      ]
    },
    {
      "cell_type": "markdown",
      "source": [
        "# Text embedding (BERT)"
      ],
      "metadata": {
        "id": "cqTFRB91FF5T"
      }
    },
    {
      "cell_type": "code",
      "source": [
        "folder_path_train =\"/content/drive/MyDrive/HMD_project/train.jsonl\"\n",
        "folder_path_dev =\"/content/drive/MyDrive/HMD_project/dev.jsonl\"\n",
        "df_train = pd.read_json(folder_path_train,lines=True)\n",
        "df_dev=pd.read_json(folder_path_dev,lines=True)\n",
        "\n",
        "print(df_dev.tail())"
      ],
      "metadata": {
        "colab": {
          "base_uri": "https://localhost:8080/"
        },
        "id": "x_BsNfakCtAZ",
        "outputId": "2e573a12-8892-4864-fe48-3f06530fd95f"
      },
      "execution_count": null,
      "outputs": [
        {
          "output_type": "stream",
          "name": "stdout",
          "text": [
            "        id            img  label  \\\n",
            "495  83675  img/83675.png      0   \n",
            "496  37198  img/37198.png      0   \n",
            "497  48670  img/48670.png      0   \n",
            "498   9863  img/09863.png      0   \n",
            "499  97320  img/97320.png      0   \n",
            "\n",
            "                                                  text  \n",
            "495                   i'm gonna be like phelps one day  \n",
            "496  when you're so relaxed you can feel yourself g...  \n",
            "497  look at this sandwich maker club i found on wi...  \n",
            "498                             diverse group of women  \n",
            "499  \"when your dishwasher is broken so you take it...  \n"
          ]
        }
      ]
    },
    {
      "cell_type": "markdown",
      "source": [],
      "metadata": {
        "id": "S62LzLf2MJOQ"
      }
    },
    {
      "cell_type": "markdown",
      "source": [
        "# <font color=#00FF00>Load augmented text"
      ],
      "metadata": {
        "id": "JHrwaxNpGqhJ"
      }
    },
    {
      "cell_type": "code",
      "source": [
        "with open('/content/drive/MyDrive/Inception_Sbert/text_aug_norm2400.txt','r') as f:\n",
        "  lines=f.readlines()\n",
        "  file_names=[]\n",
        "  for i in lines:\n",
        "    file_names.append(i[:i.find('\\n')])\n",
        "  print(type(file_names[0]))\n",
        "\n",
        "  print(len(file_names))"
      ],
      "metadata": {
        "colab": {
          "base_uri": "https://localhost:8080/"
        },
        "id": "hVsEng6bCwbH",
        "outputId": "10ac1756-17ce-4f0a-aa7e-6abd5ca8b5e6"
      },
      "execution_count": null,
      "outputs": [
        {
          "output_type": "stream",
          "name": "stdout",
          "text": [
            "<class 'str'>\n",
            "2400\n"
          ]
        }
      ]
    },
    {
      "cell_type": "markdown",
      "source": [],
      "metadata": {
        "id": "5hWkUcbbMOzv"
      }
    },
    {
      "cell_type": "markdown",
      "source": [
        "#<font color=#00FF00> Add augmented text to training dataset"
      ],
      "metadata": {
        "id": "O0Q3OjaoG1Hq"
      }
    },
    {
      "cell_type": "code",
      "source": [
        "for i in range(len(file_names)):\n",
        "  df_train.loc[len(df_train.index)] = [1, 'img/1',1,file_names[i]]\n",
        "\n",
        "len(df_train)\n"
      ],
      "metadata": {
        "colab": {
          "base_uri": "https://localhost:8080/"
        },
        "outputId": "3688ecf0-785c-407c-910a-98583b8016d1",
        "id": "1Sdmg16eMivN"
      },
      "execution_count": null,
      "outputs": [
        {
          "output_type": "execute_result",
          "data": {
            "text/plain": [
              "10900"
            ]
          },
          "metadata": {},
          "execution_count": 5
        }
      ]
    },
    {
      "cell_type": "code",
      "source": [
        "import tensorflow_hub as hub\n",
        "!pip install tensorflow_text\n",
        "import tensorflow_text as text"
      ],
      "metadata": {
        "id": "uixc40Gt5e_n"
      },
      "execution_count": null,
      "outputs": []
    },
    {
      "cell_type": "markdown",
      "source": [
        "#<font color=#00FF00> Use following urls to load the model\n",
        "#<font color=#00FFFF> BERT embedding model - L-12_H-768_A-12/4"
      ],
      "metadata": {
        "id": "LU4Vg7c3I3ao"
      }
    },
    {
      "cell_type": "code",
      "source": [
        "preprocess_url = 'https://tfhub.dev/tensorflow/bert_en_uncased_preprocess/3'\n",
        "endoder_url = 'https://tfhub.dev/tensorflow/bert_en_uncased_L-12_H-768_A-12/4'"
      ],
      "metadata": {
        "id": "zARNNo162rUC"
      },
      "execution_count": null,
      "outputs": []
    },
    {
      "cell_type": "code",
      "source": [
        "bert_preprocess_model = hub.KerasLayer(preprocess_url)\n",
        "bert_model = hub.KerasLayer(endoder_url)"
      ],
      "metadata": {
        "id": "kaBtoXBlH4av"
      },
      "execution_count": null,
      "outputs": []
    },
    {
      "cell_type": "markdown",
      "source": [
        "# Example showing BERT embedding using a test text consisting 3 sentences"
      ],
      "metadata": {
        "id": "7ugG7AdQJjnO"
      }
    },
    {
      "cell_type": "code",
      "source": [
        "text_test = ['today its going to rain', 'hard work is all you need','I am learning BERT']\n",
        "\n",
        "text_preprocessed = bert_preprocess_model(text_test)\n",
        "bert_results = bert_model(text_preprocessed)\n",
        "\n",
        "print('text processing',text_preprocessed.keys())\n",
        "print('\\nInput word ids',text_preprocessed['input_word_ids'])\n",
        "\n",
        "print('\\n','BERT',bert_results.keys())\n",
        "print('\\nShape of sentence embedding',bert_results['pooled_output'].shape)"
      ],
      "metadata": {
        "colab": {
          "base_uri": "https://localhost:8080/"
        },
        "id": "VYFPw6Ds50U2",
        "outputId": "3e2629d6-6d94-4678-f454-8d8b3721ebc7"
      },
      "execution_count": null,
      "outputs": [
        {
          "output_type": "stream",
          "name": "stdout",
          "text": [
            "text processing dict_keys(['input_mask', 'input_word_ids', 'input_type_ids'])\n",
            "\n",
            "Input word ids tf.Tensor(\n",
            "[[  101  2651  2049  2183  2000  4542   102     0     0     0     0     0\n",
            "      0     0     0     0     0     0     0     0     0     0     0     0\n",
            "      0     0     0     0     0     0     0     0     0     0     0     0\n",
            "      0     0     0     0     0     0     0     0     0     0     0     0\n",
            "      0     0     0     0     0     0     0     0     0     0     0     0\n",
            "      0     0     0     0     0     0     0     0     0     0     0     0\n",
            "      0     0     0     0     0     0     0     0     0     0     0     0\n",
            "      0     0     0     0     0     0     0     0     0     0     0     0\n",
            "      0     0     0     0     0     0     0     0     0     0     0     0\n",
            "      0     0     0     0     0     0     0     0     0     0     0     0\n",
            "      0     0     0     0     0     0     0     0]\n",
            " [  101  2524  2147  2003  2035  2017  2342   102     0     0     0     0\n",
            "      0     0     0     0     0     0     0     0     0     0     0     0\n",
            "      0     0     0     0     0     0     0     0     0     0     0     0\n",
            "      0     0     0     0     0     0     0     0     0     0     0     0\n",
            "      0     0     0     0     0     0     0     0     0     0     0     0\n",
            "      0     0     0     0     0     0     0     0     0     0     0     0\n",
            "      0     0     0     0     0     0     0     0     0     0     0     0\n",
            "      0     0     0     0     0     0     0     0     0     0     0     0\n",
            "      0     0     0     0     0     0     0     0     0     0     0     0\n",
            "      0     0     0     0     0     0     0     0     0     0     0     0\n",
            "      0     0     0     0     0     0     0     0]\n",
            " [  101  1045  2572  4083 14324   102     0     0     0     0     0     0\n",
            "      0     0     0     0     0     0     0     0     0     0     0     0\n",
            "      0     0     0     0     0     0     0     0     0     0     0     0\n",
            "      0     0     0     0     0     0     0     0     0     0     0     0\n",
            "      0     0     0     0     0     0     0     0     0     0     0     0\n",
            "      0     0     0     0     0     0     0     0     0     0     0     0\n",
            "      0     0     0     0     0     0     0     0     0     0     0     0\n",
            "      0     0     0     0     0     0     0     0     0     0     0     0\n",
            "      0     0     0     0     0     0     0     0     0     0     0     0\n",
            "      0     0     0     0     0     0     0     0     0     0     0     0\n",
            "      0     0     0     0     0     0     0     0]], shape=(3, 128), dtype=int32)\n",
            "\n",
            " BERT dict_keys(['pooled_output', 'sequence_output', 'default', 'encoder_outputs'])\n",
            "\n",
            "Shape of sentence embedding (3, 768)\n"
          ]
        }
      ]
    },
    {
      "cell_type": "code",
      "source": [],
      "metadata": {
        "id": "vuFgBd9jNLz5"
      },
      "execution_count": null,
      "outputs": []
    },
    {
      "cell_type": "markdown",
      "source": [
        "\n",
        "#<font color=#00FFFF>BERT embedding of training dataset\n"
      ],
      "metadata": {
        "id": "3T7bi_UHj9Tt"
      }
    },
    {
      "cell_type": "code",
      "source": [
        "k=0\n",
        "l = len(df_train)//100\n",
        "sbert_train = np.empty((0, 768))\n",
        "\n",
        "for i in range(l):\n",
        "  print(k)\n",
        "  text = df_train.iloc[k:k+100]['text']\n",
        "  preprocessed_text = bert_preprocess_model(text)\n",
        "  bert_text = bert_model(preprocessed_text)\n",
        "  sbert_t = bert_text['pooled_output']\n",
        "\n",
        "  sbert_t = sbert_t.numpy()\n",
        "  sbert_train = np.concatenate([sbert_train, sbert_t],axis=0)\n",
        "  k+=100\n",
        "\n",
        "sbert_train = np.array(sbert_train)\n",
        "\n",
        "\n",
        "sbert_train.shape\n"
      ],
      "metadata": {
        "id": "vHctKEvSNTNO"
      },
      "execution_count": null,
      "outputs": []
    },
    {
      "cell_type": "code",
      "source": [
        "np.save('/content/drive/MyDrive/Inception_Sbert/sbert_train.npy',sbert_train)"
      ],
      "metadata": {
        "id": "q03deT6b9gg6"
      },
      "execution_count": null,
      "outputs": []
    },
    {
      "cell_type": "markdown",
      "source": [
        "#<font color=#00FFFF>BERT embedding of validation dataset"
      ],
      "metadata": {
        "id": "XrvrPlpjkVTt"
      }
    },
    {
      "cell_type": "code",
      "source": [
        "text_val = df_dev['text']\n",
        "preprocessed_text_val = bert_preprocess_model(text_val)\n",
        "\n",
        "bert_text_val = bert_model(preprocessed_text_val)\n",
        "bert_text_val['pooled_output'].shape"
      ],
      "metadata": {
        "colab": {
          "base_uri": "https://localhost:8080/"
        },
        "id": "sRFlFmK8ubv0",
        "outputId": "36095953-d2b0-4913-ee2d-ebc831236a58"
      },
      "execution_count": null,
      "outputs": [
        {
          "output_type": "execute_result",
          "data": {
            "text/plain": [
              "TensorShape([500, 768])"
            ]
          },
          "metadata": {},
          "execution_count": 26
        }
      ]
    },
    {
      "cell_type": "code",
      "source": [
        "sbert_val = bert_text_val['pooled_output']\n",
        "sbert_val = sbert_val.numpy()\n",
        "sbert_val.shape\n"
      ],
      "metadata": {
        "colab": {
          "base_uri": "https://localhost:8080/"
        },
        "id": "Sxy2cp3lwAeu",
        "outputId": "f3eb13fc-9c7d-49f3-d322-aca6f3870ab0"
      },
      "execution_count": null,
      "outputs": [
        {
          "output_type": "execute_result",
          "data": {
            "text/plain": [
              "(500, 768)"
            ]
          },
          "metadata": {},
          "execution_count": 27
        }
      ]
    },
    {
      "cell_type": "code",
      "source": [
        "np.save('/content/drive/MyDrive/Inception_Sbert/sbert_val.npy',sbert_val)"
      ],
      "metadata": {
        "id": "Vlx-Hr159CW2"
      },
      "execution_count": null,
      "outputs": []
    },
    {
      "cell_type": "code",
      "source": [
        "x_text=np.load('/content/drive/MyDrive/Inception_Sbert/sbert_train.npy')\n",
        "x_text_val=np.load('/content/drive/MyDrive/Inception_Sbert/sbert_val.npy')\n",
        "\n",
        "print(x_text.shape,x_text_val.shape)"
      ],
      "metadata": {
        "colab": {
          "base_uri": "https://localhost:8080/"
        },
        "id": "xLlhNeumFWVU",
        "outputId": "5c9819c7-4393-40eb-ba3e-9e8504341e69"
      },
      "execution_count": null,
      "outputs": [
        {
          "output_type": "stream",
          "name": "stdout",
          "text": [
            "(10900, 768) (500, 768)\n"
          ]
        }
      ]
    },
    {
      "cell_type": "markdown",
      "source": [],
      "metadata": {
        "id": "aiO7MEkRMT0v"
      }
    },
    {
      "cell_type": "code",
      "source": [
        "for i in range(len(file_names)):\n",
        "  df_train.loc[len(df_train.index)] = [1, 'img/1',1,file_names[i]]\n",
        "\n",
        "len(df_train)\n"
      ],
      "metadata": {
        "colab": {
          "base_uri": "https://localhost:8080/"
        },
        "id": "7n4S1lbwC7wP",
        "outputId": "3688ecf0-785c-407c-910a-98583b8016d1"
      },
      "execution_count": null,
      "outputs": [
        {
          "output_type": "execute_result",
          "data": {
            "text/plain": [
              "10900"
            ]
          },
          "metadata": {},
          "execution_count": 5
        }
      ]
    },
    {
      "cell_type": "code",
      "source": [
        "x=np.concatenate((x_img,x_text),axis=1)\n",
        "x_val=np.concatenate((x_img_val,x_text_val),axis=1)\n",
        "\n",
        "print(x.shape)\n",
        "print(x_val.shape)"
      ],
      "metadata": {
        "colab": {
          "base_uri": "https://localhost:8080/"
        },
        "id": "qBeJi_upIIhh",
        "outputId": "4c087128-246d-48d7-b555-a0f8e092e3e2"
      },
      "execution_count": null,
      "outputs": [
        {
          "output_type": "stream",
          "name": "stdout",
          "text": [
            "(10900, 2816)\n",
            "(500, 2816)\n"
          ]
        }
      ]
    },
    {
      "cell_type": "markdown",
      "source": [
        "# Random Forest classifier"
      ],
      "metadata": {
        "id": "u_pDpp2IJn5R"
      }
    },
    {
      "cell_type": "code",
      "source": [
        "import pickle\n",
        "clf = RandomForestClassifier(n_estimators=50, max_depth=5, random_state=1)\n",
        "clf.fit(x,y)\n",
        "# pickle.dump(clf,open('/content/drive/MyDrive/HMD_project/new/RF_classifier.pkl','wb'))\n",
        "\n",
        "y_pred_p=clf.predict_proba(x)\n",
        "\n",
        "b=y_pred_p[:,-1]\n",
        "b=b.reshape(y.shape)\n",
        "fpr,tpr,th=roc_curve(y,b)\n",
        "\n",
        "plt.figure(figsize=(7,5))\n",
        "plt.plot(fpr,tpr,label='LSA-LR',linewidth=2)\n",
        "\n",
        "plt.grid()\n",
        "plt.title(\"ROC\")\n",
        "plt.xlabel(\"False positive rate-------->\")\n",
        "plt.ylabel(\"True positive rate--------->\")\n",
        "plt.legend(loc='lower right')\n",
        "\n",
        "\n",
        "optimal_idx = np.argmax(tpr - fpr)\n",
        "optimal_threshold = th[optimal_idx]\n",
        "print('optimal_threshold', optimal_threshold,'\\n')\n"
      ],
      "metadata": {
        "colab": {
          "base_uri": "https://localhost:8080/",
          "height": 524
        },
        "id": "xyPU45RfC47f",
        "outputId": "c2e29eb8-cb3b-4b3a-b53b-ab409a85a961"
      },
      "execution_count": null,
      "outputs": [
        {
          "output_type": "stream",
          "name": "stdout",
          "text": [
            "optimal_threshold 0.4744552834520717 \n",
            "\n"
          ]
        },
        {
          "output_type": "display_data",
          "data": {
            "text/plain": [
              "<Figure size 700x500 with 1 Axes>"
            ],
            "image/png": "[encoded data removed]"
          },
          "metadata": {}
        }
      ]
    },
    {
      "cell_type": "code",
      "source": [
        "y_pred = np.where(clf.predict_proba(x)[:,1] >  0.47, 1, 0)\n",
        "\n",
        "print(classification_report(y,y_pred))\n",
        "print(matthews_corrcoef(y,y_pred))\n",
        "\n",
        "print(\"\\n\\nvalidation\")\n",
        "y_pred_val = np.where(clf.predict_proba(x_val)[:,1] >  0.47, 1, 0)\n",
        "print(classification_report(y_val,y_pred_val))\n",
        "print(matthews_corrcoef(y_val,y_pred_val))"
      ],
      "metadata": {
        "colab": {
          "base_uri": "https://localhost:8080/"
        },
        "id": "tz5tJ5U3C80A",
        "outputId": "b2dbb2d2-dc74-4d1e-de3f-d2fcfae47b36"
      },
      "execution_count": null,
      "outputs": [
        {
          "output_type": "stream",
          "name": "stdout",
          "text": [
            "              precision    recall  f1-score   support\n",
            "\n",
            "         0.0       0.70      0.61      0.66      5450\n",
            "         1.0       0.66      0.74      0.70      5450\n",
            "\n",
            "    accuracy                           0.68     10900\n",
            "   macro avg       0.68      0.68      0.68     10900\n",
            "weighted avg       0.68      0.68      0.68     10900\n",
            "\n",
            "0.35806052832833585\n",
            "\n",
            "\n",
            "validation\n",
            "              precision    recall  f1-score   support\n",
            "\n",
            "           0       0.57      0.60      0.59       250\n",
            "           1       0.58      0.55      0.57       250\n",
            "\n",
            "    accuracy                           0.58       500\n",
            "   macro avg       0.58      0.58      0.58       500\n",
            "weighted avg       0.58      0.58      0.58       500\n",
            "\n",
            "0.1562113406956392\n"
          ]
        }
      ]
    },
    {
      "cell_type": "markdown",
      "source": [
        "# AdaBoost classifier"
      ],
      "metadata": {
        "id": "LoCo4oAYJZFK"
      }
    },
    {
      "cell_type": "code",
      "source": [
        "clf = AdaBoostClassifier(n_estimators=80, learning_rate=1.0, random_state=42)\n",
        "clf.fit(x,y)\n",
        "# pickle.dump(clf,open('/content/drive/MyDrive/HMD_project/new/RF_classifier.pkl','wb'))\n",
        "\n",
        "y_pred_p=clf.predict_proba(x)\n",
        "\n",
        "b=y_pred_p[:,-1]\n",
        "b=b.reshape(y.shape)\n",
        "fpr,tpr,th=roc_curve(y,b)\n",
        "\n",
        "plt.figure(figsize=(7,5))\n",
        "plt.plot(fpr,tpr,label='LSA-LR',linewidth=2)\n",
        "\n",
        "plt.grid()\n",
        "plt.title(\"ROC\")\n",
        "plt.xlabel(\"False positive rate-------->\")\n",
        "plt.ylabel(\"True positive rate--------->\")\n",
        "plt.legend(loc='lower right')\n",
        "\n",
        "\n",
        "optimal_idx = np.argmax(tpr - fpr)\n",
        "optimal_threshold = th[optimal_idx]\n",
        "print('optimal_threshold', optimal_threshold,'\\n')"
      ],
      "metadata": {
        "colab": {
          "base_uri": "https://localhost:8080/",
          "height": 524
        },
        "id": "ueZoUpnmJdsU",
        "outputId": "4cba325f-5b70-4393-e413-4605805f5237"
      },
      "execution_count": null,
      "outputs": [
        {
          "output_type": "stream",
          "name": "stdout",
          "text": [
            "optimal_threshold 0.4999166448147436 \n",
            "\n"
          ]
        },
        {
          "output_type": "display_data",
          "data": {
            "text/plain": [
              "<Figure size 700x500 with 1 Axes>"
            ],
            "image/png": "[encoded data removed]"
          },
          "metadata": {}
        }
      ]
    },
    {
      "cell_type": "code",
      "source": [
        "y_pred = np.where(clf.predict_proba(x)[:,1] > 0.499, 1, 0)\n",
        "\n",
        "print(classification_report(y,y_pred))\n",
        "print(matthews_corrcoef(y,y_pred))\n",
        "\n",
        "print(\"\\n\\nvalidation\")\n",
        "y_pred_val = np.where(clf.predict_proba(x_val)[:,1] > 0.499, 1, 0)\n",
        "print(classification_report(y_val,y_pred_val))\n",
        "print(matthews_corrcoef(y_val,y_pred_val))"
      ],
      "metadata": {
        "colab": {
          "base_uri": "https://localhost:8080/"
        },
        "id": "AFfYUE6eJkZZ",
        "outputId": "5abfe9e4-4cf0-4eb0-f571-394e998fc9e9"
      },
      "execution_count": null,
      "outputs": [
        {
          "output_type": "stream",
          "name": "stdout",
          "text": [
            "              precision    recall  f1-score   support\n",
            "\n",
            "         0.0       0.74      0.58      0.65      5450\n",
            "         1.0       0.65      0.80      0.72      5450\n",
            "\n",
            "    accuracy                           0.69     10900\n",
            "   macro avg       0.70      0.69      0.68     10900\n",
            "weighted avg       0.70      0.69      0.68     10900\n",
            "\n",
            "0.3840318198665441\n",
            "\n",
            "\n",
            "validation\n",
            "              precision    recall  f1-score   support\n",
            "\n",
            "           0       0.56      0.51      0.53       250\n",
            "           1       0.55      0.60      0.57       250\n",
            "\n",
            "    accuracy                           0.55       500\n",
            "   macro avg       0.55      0.55      0.55       500\n",
            "weighted avg       0.55      0.55      0.55       500\n",
            "\n",
            "0.1084599780086928\n"
          ]
        }
      ]
    },
    {
      "cell_type": "markdown",
      "source": [
        "# Gradient boosting classifier"
      ],
      "metadata": {
        "id": "fZuXbocmKGZV"
      }
    },
    {
      "cell_type": "code",
      "source": [
        "clf = GradientBoostingClassifier(n_estimators=5, learning_rate=1.0, random_state=0)\n",
        "clf.fit(x,y)\n",
        "# pickle.dump(clf,open('/content/drive/MyDrive/HMD_project/new/RF_classifier.pkl','wb'))\n",
        "\n",
        "y_pred_p=clf.predict_proba(x)\n",
        "\n",
        "b=y_pred_p[:,-1]\n",
        "b=b.reshape(y.shape)\n",
        "fpr,tpr,th=roc_curve(y,b)\n",
        "\n",
        "plt.figure(figsize=(7,5))\n",
        "plt.plot(fpr,tpr,label='LSA-LR',linewidth=2)\n",
        "\n",
        "plt.grid()\n",
        "plt.title(\"ROC\")\n",
        "plt.xlabel(\"False positive rate-------->\")\n",
        "plt.ylabel(\"True positive rate--------->\")\n",
        "plt.legend(loc='lower right')\n",
        "\n",
        "\n",
        "optimal_idx = np.argmax(tpr - fpr)\n",
        "optimal_threshold = th[optimal_idx]\n",
        "print('optimal_threshold', optimal_threshold,'\\n')\n"
      ],
      "metadata": {
        "id": "Mof6uM4JKL_m",
        "colab": {
          "base_uri": "https://localhost:8080/",
          "height": 522
        },
        "outputId": "4270d4ce-5fe7-4844-fced-3adcc5629c8b"
      },
      "execution_count": null,
      "outputs": [
        {
          "output_type": "stream",
          "name": "stdout",
          "text": [
            "optimal_threshold 0.5004591647309685 \n",
            "\n"
          ]
        },
        {
          "output_type": "display_data",
          "data": {
            "text/plain": [
              "<Figure size 700x500 with 1 Axes>"
            ],
            "image/png": "[encoded data removed]"
          },
          "metadata": {}
        }
      ]
    },
    {
      "cell_type": "code",
      "source": [
        "y_pred = np.where(clf.predict_proba(x)[:,1] > 0.48, 1, 0)\n",
        "\n",
        "print(classification_report(y,y_pred))\n",
        "print(matthews_corrcoef(y,y_pred))\n",
        "\n",
        "print(\"\\n\\nvalidation\")\n",
        "y_pred_val = np.where(clf.predict_proba(x_val)[:,1] > 0.48, 1, 0)\n",
        "print(classification_report(y_val,y_pred_val))\n",
        "print(matthews_corrcoef(y_val,y_pred_val))"
      ],
      "metadata": {
        "id": "n6Oq1_8NKYH9",
        "colab": {
          "base_uri": "https://localhost:8080/"
        },
        "outputId": "b51a7ad7-44bf-4fe0-a16d-a76575fad4f8"
      },
      "execution_count": null,
      "outputs": [
        {
          "output_type": "stream",
          "name": "stdout",
          "text": [
            "              precision    recall  f1-score   support\n",
            "\n",
            "         0.0       0.67      0.64      0.65      5450\n",
            "         1.0       0.66      0.69      0.67      5450\n",
            "\n",
            "    accuracy                           0.66     10900\n",
            "   macro avg       0.66      0.66      0.66     10900\n",
            "weighted avg       0.66      0.66      0.66     10900\n",
            "\n",
            "0.3268263160791555\n",
            "\n",
            "\n",
            "validation\n",
            "              precision    recall  f1-score   support\n",
            "\n",
            "           0       0.57      0.63      0.60       250\n",
            "           1       0.59      0.53      0.56       250\n",
            "\n",
            "    accuracy                           0.58       500\n",
            "   macro avg       0.58      0.58      0.58       500\n",
            "weighted avg       0.58      0.58      0.58       500\n",
            "\n",
            "0.1607424155354975\n"
          ]
        }
      ]
    }
  ]
}